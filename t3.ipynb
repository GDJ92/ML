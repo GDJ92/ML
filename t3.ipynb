{
 "cells": [
  {
   "cell_type": "code",
   "execution_count": 1,
   "id": "6e8b31b4-63dd-4063-b5ce-e09de92535b5",
   "metadata": {
    "tags": []
   },
   "outputs": [],
   "source": [
    "from sklearn.model_selection import train_test_split\n",
    "from sklearn.ensemble import RandomForestRegressor\n",
    "from sklearn.metrics import mean_absolute_error, r2_score\n",
    "from rfpimp import *\n",
    "from pandas.api.types import is_object_dtype,is_string_dtype\n",
    "import category_encoders as ce"
   ]
  },
  {
   "cell_type": "code",
   "execution_count": 21,
   "id": "4fd49223-caef-4eba-b175-a5cec2604af6",
   "metadata": {
    "tags": []
   },
   "outputs": [],
   "source": [
    "# GENERAL RF MODEL\n",
    "#def evaluate(X, y): /*/     rf = RandomForestRegressor(n_estimators=100, n_jobs=-1, oob_score=True) /*/     rf.fit(X, y) /*/     oob = rf.oob_score_ /*/    n = rfnnodes(rf) /*/     h = np.median(rfmaxdepths(rf)) /*/     print(f\"OOB R^2 is {oob:.5f} using {n:,d} tree nodes with {h} median tree depth\") /*/     return rf, oob"
   ]
  },
  {
   "cell_type": "code",
   "execution_count": 20,
   "id": "e6ce6ae4-8230-4572-b26c-d91005d40c1b",
   "metadata": {
    "tags": []
   },
   "outputs": [],
   "source": [
    "#validate model\n",
    "#X = rent_clean[['bathrooms', 'bedrooms', 'longitude', 'latitude'] /*/ y = rent_clean['price'] /*/ rf, oob = evaluate(X, y)"
   ]
  },
  {
   "cell_type": "code",
   "execution_count": 23,
   "id": "6e430e5f-cab8-4ac4-bfe8-76c3026f3a5c",
   "metadata": {
    "tags": []
   },
   "outputs": [],
   "source": [
    "#FEATURE IMPORTANCE\n",
    "#def showimp(rf, X, y): /*/     features = list(X.columns) /*/     I = importances(rf, X, y, features=features) /*/     plot_importances(I, color='#4575b4')"
   ]
  },
  {
   "cell_type": "code",
   "execution_count": 7,
   "id": "464e4b32-12c0-47f1-8a2e-0b87249fb404",
   "metadata": {
    "tags": []
   },
   "outputs": [],
   "source": [
    "#showimp(rf, X, y)"
   ]
  },
  {
   "cell_type": "code",
   "execution_count": 8,
   "id": "a40a3c5b-b44d-4d11-881f-20b99bc58654",
   "metadata": {
    "tags": []
   },
   "outputs": [],
   "source": [
    "#MAPPING\n",
    "# rent_nonnum = rent_clean[non_num] /*/ numfeatures = ['bathrooms', 'bedrooms', 'longitude', 'latitude'] /*/ X = rent_clean[numfeatures + ['interest_level']] /*/ import category_encoders as ce encoder = ce.OrdinalEncoder(mapping = [{'col':'interest_level','mapping':{'low' : 1 , 'medium' :2, 'high':3}}]) /*/ encoder.fit(X) /*/ X = encoder.transform(X)\n",
    "# non_num es una lista de variables non numeric"
   ]
  },
  {
   "cell_type": "code",
   "execution_count": 9,
   "id": "b7a3f988-34d5-41e0-a3e9-00cfeaee4936",
   "metadata": {
    "tags": []
   },
   "outputs": [],
   "source": [
    "#rf, oob = evaluate(X, y) /*/ showimp(rf, X, y)"
   ]
  },
  {
   "cell_type": "code",
   "execution_count": 11,
   "id": "77eaee54-c9ca-4cfe-9071-96f66a1f374f",
   "metadata": {
    "tags": []
   },
   "outputs": [],
   "source": [
    "#ONE HOT\n",
    "#X = rent_clean[numfeatures + ['manager_id']] /*/ encoder = ce.OneHotEncoder(cols=['manager_id']) /*/ encoder.fit(X) /*/ X = encoder.transform(X) /*/ rf, oob = evaluate(X, y)"
   ]
  },
  {
   "cell_type": "code",
   "execution_count": 12,
   "id": "51ef0e03-1056-4b89-b312-8916245d129a",
   "metadata": {
    "tags": []
   },
   "outputs": [],
   "source": [
    "#DUMMIE\n",
    "#onehot = pd.get_dummies(df['Hydraulics_Flow'], prefix='Hydraulics_Flow', dtype=bool) /*/ onehot.head(3)"
   ]
  },
  {
   "cell_type": "code",
   "execution_count": 14,
   "id": "3c357036-7d6a-4890-b67f-9cded4ddc50a",
   "metadata": {
    "tags": []
   },
   "outputs": [],
   "source": [
    "#NORMALIZE\n",
    "# from pandas.api.types import is_object_dtype,is_string_dtype /*/ def df_normalize_string(df): /*/     for col in df.columns: /*/         if is_object_dtype(df[col]) or is_string_dtype(df[col]): /*/             df[col] = df[col].str.lower() /*/             df[col] = df[col].fillna(np.nan) /*/             df[col] = df[col].replace('none or unspecified', np.nan) /*/             df[col] = df[col].replace('none', np.nan) /*/             df[col] = df[col].replace('#name?', np.nan) /*/             df[col] = df[col].replace('', np.nan) \n",
    "#df['fiModelSeries'].unique()"
   ]
  },
  {
   "cell_type": "code",
   "execution_count": 19,
   "id": "390a7dfc-fa3a-4def-99da-f98f78b259e1",
   "metadata": {
    "tags": []
   },
   "outputs": [],
   "source": [
    "#missing num\n",
    "#def fix_missing_num(df,colname): /*/     df[colname+'_na'] = pd.isnull(df[colname]) /*/     df[colname].fillna(df[colname].median(), inplace=True)"
   ]
  },
  {
   "cell_type": "code",
   "execution_count": 18,
   "id": "20e9de85-1976-475e-89a8-0f3440840723",
   "metadata": {
    "tags": []
   },
   "outputs": [],
   "source": [
    "#split dates\n",
    "#def df_split_dates(df,colname): /*/     df[\"saleyear\"] = df[colname].dt.year /*/     df[\"salemonth\"] = df[colname].dt.month /*/     df[\"saleday\"] = df[colname].dt.day /*/     df[\"saledayofweek\"] = df[colname].dt.dayofweek /*/     df[\"saledayofyear\"] = df[colname].dt.dayofyear/*/     df[colname] = df[colname].astype(np.int64)"
   ]
  },
  {
   "cell_type": "code",
   "execution_count": 24,
   "id": "c27c4205-1f52-420d-bd74-8323c7eabc6b",
   "metadata": {
    "tags": []
   },
   "outputs": [],
   "source": [
    "## has apartment been renovated?\n",
    "#df['renov'] = df['description'].str.contains(\"renov\")\n",
    "\n",
    "#for w in ['doorman', 'parking', 'garage', 'laundry', \n",
    "#          'Elevator', 'fitness center', 'dishwasher']:\n",
    "#    df[w] = df['features'].str.contains(w)\n",
    "#df[['doorman', 'parking', 'garage', 'laundry']].head(5)"
   ]
  },
  {
   "cell_type": "markdown",
   "id": "ff8fb3df-583b-4a86-b99c-f774d7fa26fb",
   "metadata": {},
   "source": [
    "* One-Hot Encoding: This method converts each category value into a new column and assigns a binary value (0 or 1) to each category. One-hot encoding is suitable when the categories are not ordinal and do not have a natural order. Useful when categories are not ordinal and do not have a natural order.\n",
    "* Label Encoding: In this technique, each category is assigned a unique integer number. It's suitable for ordinal data, where there is a clear ordering among the categories. Suitable for ordinal categorical variables where there is a clear ordering among the categories.\n",
    "* Ordinal Encoding: Similar to label encoding, ordinal encoding assigns integer values to categories. However, it considers the order of the categories and assigns integers accordingly. Similar to label encoding but explicitly considers the order of categories.\n",
    "* Mapping: Mapping involves directly replacing categorical values with numerical values based on a predefined mapping dictionary. This can be useful when the categorical variable has a natural order or when you want to manually assign numerical values to categories.\n",
    "* Target Encoding:  In target encoding, each category is replaced with the mean of the target variable for that category. Useful for classification tasks where the target variable is categorical."
   ]
  },
  {
   "cell_type": "markdown",
   "id": "347257fe-92d7-4b97-9a59-71d1eaf397cc",
   "metadata": {},
   "source": [
    "# Desition tree"
   ]
  },
  {
   "cell_type": "code",
   "execution_count": 35,
   "id": "e8cfa8fd-5b1b-4ff0-b8ab-f2e2b31d1d99",
   "metadata": {
    "tags": []
   },
   "outputs": [],
   "source": [
    "import numpy as np\n",
    "from numpy.random import default_rng\n",
    "rnd_list = default_rng(110)\n",
    "x = rnd_list.integers(low=0, high=100, size = (6))\n",
    "y = rnd_list.integers(low=0, high=100, size = (6))\n",
    "#mid point = 60"
   ]
  },
  {
   "cell_type": "code",
   "execution_count": 36,
   "id": "76b624d3-7cc2-4120-8b80-70164d7ffda6",
   "metadata": {
    "tags": []
   },
   "outputs": [
    {
     "data": {
      "text/plain": [
       "array([59, 93, 63, 51, 23, 71], dtype=int64)"
      ]
     },
     "execution_count": 36,
     "metadata": {},
     "output_type": "execute_result"
    }
   ],
   "source": [
    "x"
   ]
  },
  {
   "cell_type": "code",
   "execution_count": 37,
   "id": "4ae88ffd-717c-4e02-92db-2f07ffdcf1a2",
   "metadata": {
    "tags": []
   },
   "outputs": [
    {
     "data": {
      "text/plain": [
       "array([70, 50,  4, 23, 23, 87], dtype=int64)"
      ]
     },
     "execution_count": 37,
     "metadata": {},
     "output_type": "execute_result"
    }
   ],
   "source": [
    "y"
   ]
  },
  {
   "cell_type": "code",
   "execution_count": 4,
   "id": "72fd8416-7b57-4352-938b-5bf367df3f4f",
   "metadata": {
    "tags": []
   },
   "outputs": [],
   "source": [
    "def split_data(x,y,split_pt):\n",
    "    mask = x > split_pt\n",
    "    anti_mask = x < split_pt\n",
    "    x_true = x[mask]\n",
    "    y_true = y[mask]\n",
    "    x_false = x[anti_mask]\n",
    "    y_false = y[anti_mask]\n",
    "    return x_true, y_true, x_false , y_false"
   ]
  },
  {
   "cell_type": "code",
   "execution_count": 5,
   "id": "e6cd1c19-f3e3-410f-aa81-8848fa8225c3",
   "metadata": {
    "tags": []
   },
   "outputs": [],
   "source": [
    "x_true, y_true, x_false , y_false =split_data(x,y, 60)"
   ]
  },
  {
   "cell_type": "code",
   "execution_count": 6,
   "id": "3cf17430-8157-461f-b6ef-c954caf078b2",
   "metadata": {
    "tags": []
   },
   "outputs": [],
   "source": [
    "def MAE(y, y_true, y_false):\n",
    "    y_true_hat = np.mean(y_true)\n",
    "    y_false_hat = np.mean(y_false)\n",
    "    y_hat = np.mean(y)\n",
    "    \n",
    "    old_mae = np.mean(np.absolute(y-y_hat))\n",
    "    new_mae = len(y_true)/ len(y) * np.mean(np.absolute(y_true-y_true_hat)) + \\\n",
    "              len(y_false)/ len(y) * np.mean(np.absolute(y_false-y_false_hat)) \n",
    "    return old_mae, new_mae"
   ]
  },
  {
   "cell_type": "code",
   "execution_count": 7,
   "id": "91689525-e31b-4e9a-94a5-619bf80092f6",
   "metadata": {
    "tags": []
   },
   "outputs": [
    {
     "data": {
      "text/plain": [
       "(26.166666666666668, 24.77777777777778)"
      ]
     },
     "execution_count": 7,
     "metadata": {},
     "output_type": "execute_result"
    }
   ],
   "source": [
    "MAE(y,y_true,y_false)"
   ]
  },
  {
   "cell_type": "code",
   "execution_count": 8,
   "id": "5fa6af15-6831-448f-a97d-21868fabef1f",
   "metadata": {
    "tags": []
   },
   "outputs": [],
   "source": [
    "x= [10,15,20,25]"
   ]
  },
  {
   "cell_type": "code",
   "execution_count": 9,
   "id": "c6344e37-d0bc-4d17-a726-0f6decb198e7",
   "metadata": {
    "tags": []
   },
   "outputs": [],
   "source": [
    "def split (x):\n",
    "    split_points=[]\n",
    "    x_sorted = sorted(x)\n",
    "    for i in range(len(x)-1):\n",
    "        mid_point= (x_sorted[i]+x_sorted[i+1])/2\n",
    "        split_points.append(mid_point)\n",
    "    return split_points"
   ]
  },
  {
   "cell_type": "code",
   "execution_count": 10,
   "id": "640ed2c4-dfa8-4613-be8f-056d1a83ca5b",
   "metadata": {
    "tags": []
   },
   "outputs": [
    {
     "data": {
      "text/plain": [
       "[12.5, 17.5, 22.5]"
      ]
     },
     "execution_count": 10,
     "metadata": {},
     "output_type": "execute_result"
    }
   ],
   "source": [
    "split(x)"
   ]
  },
  {
   "cell_type": "code",
   "execution_count": 15,
   "id": "55acb64c-ce60-41cd-b6b3-a927d6a31dfe",
   "metadata": {},
   "outputs": [],
   "source": [
    "def get_best_split(data):\n",
    "    x = data[:,0]\n",
    "    y = data[:,1]\n",
    "    split_pts = split(x) #1\n",
    "    results = {}\n",
    "    for point in split_pts:\n",
    "        x_true, y_true, x_false , y_false = split_data(x,y, point) #2\n",
    "        errors = MAE(y, y_true, y_false) #3\n",
    "        results[point] = errors\n",
    "    best_point = min(results,key=results.get)\n",
    "    return results,best_point"
   ]
  },
  {
   "cell_type": "code",
   "execution_count": 20,
   "id": "5b966980-3574-4c67-82dc-a72f42656c9d",
   "metadata": {
    "tags": []
   },
   "outputs": [
    {
     "data": {
      "text/plain": [
       "array([[80, 25,  5,  9, 80],\n",
       "       [83,  7, 36, 54, 44],\n",
       "       [37, 37, 24, 57, 60],\n",
       "       [87, 52, 32, 18, 73],\n",
       "       [55, 95, 36, 91, 83]], dtype=int64)"
      ]
     },
     "execution_count": 20,
     "metadata": {},
     "output_type": "execute_result"
    }
   ],
   "source": [
    "list = rnd_list.integers(low=5, high=100, size = (5,5))\n",
    "list"
   ]
  },
  {
   "cell_type": "code",
   "execution_count": 19,
   "id": "a077c8ef-9932-42a5-9547-01e9f05f6b26",
   "metadata": {
    "tags": []
   },
   "outputs": [
    {
     "data": {
      "text/plain": [
       "({48.5: (27.76, 21.400000000000002),\n",
       "  64.5: (27.76, 8.333333333333334),\n",
       "  72.0: (27.76, 18.599999999999998),\n",
       "  77.5: (27.76, 22.400000000000002)},\n",
       " 64.5)"
      ]
     },
     "execution_count": 19,
     "metadata": {},
     "output_type": "execute_result"
    }
   ],
   "source": [
    "get_best_split(list)"
   ]
  },
  {
   "cell_type": "markdown",
   "id": "03c1add5-162e-43cc-9ccf-d75ca62bd907",
   "metadata": {},
   "source": [
    "### Desition tree with sklearn"
   ]
  },
  {
   "cell_type": "code",
   "execution_count": 65,
   "id": "0cea3ac8-be6d-40f3-b582-57afa2d89182",
   "metadata": {
    "tags": []
   },
   "outputs": [],
   "source": [
    "X=np.array([[59, 93, 63, 51, 23, 71], [10, 93, 63, 80, 23, 71], [15, 83, 93, 91, 25, 71], [19, 90, 60, 50, 20, 70], [19, 13, 13, 11, 13, 11], [9, 3, 6, 5, 3, 1]])"
   ]
  },
  {
   "cell_type": "code",
   "execution_count": 66,
   "id": "8ac9322e-c13d-4ad8-966d-3e244c9d714a",
   "metadata": {
    "tags": []
   },
   "outputs": [],
   "source": [
    "y=np.array([70, 50,  4, 23, 23, 55])"
   ]
  },
  {
   "cell_type": "code",
   "execution_count": 67,
   "id": "b59a71f3-6b23-4b69-9d5a-5f3e65865c43",
   "metadata": {
    "tags": []
   },
   "outputs": [],
   "source": [
    "from sklearn.model_selection import train_test_split\n",
    "from sklearn.tree import DecisionTreeRegressor"
   ]
  },
  {
   "cell_type": "code",
   "execution_count": 68,
   "id": "2ed42445-6c5b-4816-93ab-9cfc11d71967",
   "metadata": {
    "tags": []
   },
   "outputs": [],
   "source": [
    "X_train, X_test, y_train, y_test = train_test_split(X, y) "
   ]
  },
  {
   "cell_type": "code",
   "execution_count": 71,
   "id": "8d4612b4-5f7c-4f17-a091-ffc41eb7c2fb",
   "metadata": {
    "tags": []
   },
   "outputs": [],
   "source": [
    "regr = DecisionTreeRegressor(random_state =122)"
   ]
  },
  {
   "cell_type": "code",
   "execution_count": 72,
   "id": "0d5c7767-0b06-4530-9cf5-6c2aad3c4ef4",
   "metadata": {
    "tags": []
   },
   "outputs": [
    {
     "data": {
      "text/html": [
       "<style>#sk-container-id-3 {color: black;}#sk-container-id-3 pre{padding: 0;}#sk-container-id-3 div.sk-toggleable {background-color: white;}#sk-container-id-3 label.sk-toggleable__label {cursor: pointer;display: block;width: 100%;margin-bottom: 0;padding: 0.3em;box-sizing: border-box;text-align: center;}#sk-container-id-3 label.sk-toggleable__label-arrow:before {content: \"▸\";float: left;margin-right: 0.25em;color: #696969;}#sk-container-id-3 label.sk-toggleable__label-arrow:hover:before {color: black;}#sk-container-id-3 div.sk-estimator:hover label.sk-toggleable__label-arrow:before {color: black;}#sk-container-id-3 div.sk-toggleable__content {max-height: 0;max-width: 0;overflow: hidden;text-align: left;background-color: #f0f8ff;}#sk-container-id-3 div.sk-toggleable__content pre {margin: 0.2em;color: black;border-radius: 0.25em;background-color: #f0f8ff;}#sk-container-id-3 input.sk-toggleable__control:checked~div.sk-toggleable__content {max-height: 200px;max-width: 100%;overflow: auto;}#sk-container-id-3 input.sk-toggleable__control:checked~label.sk-toggleable__label-arrow:before {content: \"▾\";}#sk-container-id-3 div.sk-estimator input.sk-toggleable__control:checked~label.sk-toggleable__label {background-color: #d4ebff;}#sk-container-id-3 div.sk-label input.sk-toggleable__control:checked~label.sk-toggleable__label {background-color: #d4ebff;}#sk-container-id-3 input.sk-hidden--visually {border: 0;clip: rect(1px 1px 1px 1px);clip: rect(1px, 1px, 1px, 1px);height: 1px;margin: -1px;overflow: hidden;padding: 0;position: absolute;width: 1px;}#sk-container-id-3 div.sk-estimator {font-family: monospace;background-color: #f0f8ff;border: 1px dotted black;border-radius: 0.25em;box-sizing: border-box;margin-bottom: 0.5em;}#sk-container-id-3 div.sk-estimator:hover {background-color: #d4ebff;}#sk-container-id-3 div.sk-parallel-item::after {content: \"\";width: 100%;border-bottom: 1px solid gray;flex-grow: 1;}#sk-container-id-3 div.sk-label:hover label.sk-toggleable__label {background-color: #d4ebff;}#sk-container-id-3 div.sk-serial::before {content: \"\";position: absolute;border-left: 1px solid gray;box-sizing: border-box;top: 0;bottom: 0;left: 50%;z-index: 0;}#sk-container-id-3 div.sk-serial {display: flex;flex-direction: column;align-items: center;background-color: white;padding-right: 0.2em;padding-left: 0.2em;position: relative;}#sk-container-id-3 div.sk-item {position: relative;z-index: 1;}#sk-container-id-3 div.sk-parallel {display: flex;align-items: stretch;justify-content: center;background-color: white;position: relative;}#sk-container-id-3 div.sk-item::before, #sk-container-id-3 div.sk-parallel-item::before {content: \"\";position: absolute;border-left: 1px solid gray;box-sizing: border-box;top: 0;bottom: 0;left: 50%;z-index: -1;}#sk-container-id-3 div.sk-parallel-item {display: flex;flex-direction: column;z-index: 1;position: relative;background-color: white;}#sk-container-id-3 div.sk-parallel-item:first-child::after {align-self: flex-end;width: 50%;}#sk-container-id-3 div.sk-parallel-item:last-child::after {align-self: flex-start;width: 50%;}#sk-container-id-3 div.sk-parallel-item:only-child::after {width: 0;}#sk-container-id-3 div.sk-dashed-wrapped {border: 1px dashed gray;margin: 0 0.4em 0.5em 0.4em;box-sizing: border-box;padding-bottom: 0.4em;background-color: white;}#sk-container-id-3 div.sk-label label {font-family: monospace;font-weight: bold;display: inline-block;line-height: 1.2em;}#sk-container-id-3 div.sk-label-container {text-align: center;}#sk-container-id-3 div.sk-container {/* jupyter's `normalize.less` sets `[hidden] { display: none; }` but bootstrap.min.css set `[hidden] { display: none !important; }` so we also need the `!important` here to be able to override the default hidden behavior on the sphinx rendered scikit-learn.org. See: https://github.com/scikit-learn/scikit-learn/issues/21755 */display: inline-block !important;position: relative;}#sk-container-id-3 div.sk-text-repr-fallback {display: none;}</style><div id=\"sk-container-id-3\" class=\"sk-top-container\"><div class=\"sk-text-repr-fallback\"><pre>DecisionTreeRegressor(random_state=122)</pre><b>In a Jupyter environment, please rerun this cell to show the HTML representation or trust the notebook. <br />On GitHub, the HTML representation is unable to render, please try loading this page with nbviewer.org.</b></div><div class=\"sk-container\" hidden><div class=\"sk-item\"><div class=\"sk-estimator sk-toggleable\"><input class=\"sk-toggleable__control sk-hidden--visually\" id=\"sk-estimator-id-3\" type=\"checkbox\" checked><label for=\"sk-estimator-id-3\" class=\"sk-toggleable__label sk-toggleable__label-arrow\">DecisionTreeRegressor</label><div class=\"sk-toggleable__content\"><pre>DecisionTreeRegressor(random_state=122)</pre></div></div></div></div></div>"
      ],
      "text/plain": [
       "DecisionTreeRegressor(random_state=122)"
      ]
     },
     "execution_count": 72,
     "metadata": {},
     "output_type": "execute_result"
    }
   ],
   "source": [
    "regr.fit(X, y)"
   ]
  },
  {
   "cell_type": "markdown",
   "id": "f48c5b7c-e1ca-4b23-b39b-c795aee095f6",
   "metadata": {},
   "source": [
    "# Random Forest"
   ]
  },
  {
   "cell_type": "code",
   "execution_count": 21,
   "id": "0000698f-5d21-4efd-a8b2-7fa648b337db",
   "metadata": {
    "tags": []
   },
   "outputs": [],
   "source": [
    "from numpy.random import default_rng\n",
    "import numpy as np"
   ]
  },
  {
   "cell_type": "code",
   "execution_count": 31,
   "id": "64e04e04-9907-4047-b618-1aec670f46ab",
   "metadata": {
    "tags": []
   },
   "outputs": [
    {
     "data": {
      "text/plain": [
       "array([[479, 744, 508, 409, 184, 570],\n",
       "       [560, 401,  35, 191, 190, 701],\n",
       "       [708,  55, 414, 562, 737,  78],\n",
       "       [784, 356, 297, 419, 681, 211],\n",
       "       [785,  51, 680, 509, 364, 392],\n",
       "       [754, 512, 367, 350, 202, 570],\n",
       "       [222, 561,  43, 307, 691, 665],\n",
       "       [449, 674, 758, 374, 670, 655],\n",
       "       [ 46, 304, 143, 499, 293, 453],\n",
       "       [ 48, 624, 396, 574, 138, 762]], dtype=int64)"
      ]
     },
     "execution_count": 31,
     "metadata": {},
     "output_type": "execute_result"
    }
   ],
   "source": [
    "rand = default_rng(110)\n",
    "x = rand.integers(0,800,(10,6))\n",
    "x"
   ]
  },
  {
   "cell_type": "code",
   "execution_count": 32,
   "id": "c02cdee2-4c34-47de-80e4-aea6e0becd9e",
   "metadata": {
    "tags": []
   },
   "outputs": [
    {
     "data": {
      "text/plain": [
       "array([[733],\n",
       "       [260],\n",
       "       [637],\n",
       "       [175],\n",
       "       [  0],\n",
       "       [ 40],\n",
       "       [633],\n",
       "       [663],\n",
       "       [ 24],\n",
       "       [262]], dtype=int64)"
      ]
     },
     "execution_count": 32,
     "metadata": {},
     "output_type": "execute_result"
    }
   ],
   "source": [
    "y = rand.integers(0,800,(10,1))\n",
    "y"
   ]
  },
  {
   "cell_type": "code",
   "execution_count": 33,
   "id": "e5ac02d8-1256-4ace-a3fe-43345c14532b",
   "metadata": {
    "tags": []
   },
   "outputs": [],
   "source": [
    "#1 boorstraping and obb\n",
    "def bs_sampling(data):\n",
    "    bs = rand.choice(data,data.shape[0],replace=True)\n",
    "    unique_bs = np.unique(bs, axis=0)\n",
    "    oob=[]\n",
    "    for row in data:\n",
    "        if sum(np.isin(row,unique_bs))==0:\n",
    "            oob.append(row) \n",
    "    return bs,np.array(oob)"
   ]
  },
  {
   "cell_type": "code",
   "execution_count": 35,
   "id": "1e6e5c0f-9749-4dca-8a84-9bf025ddc785",
   "metadata": {
    "tags": []
   },
   "outputs": [
    {
     "data": {
      "text/plain": [
       "(array([[754, 512, 367, 350, 202, 570],\n",
       "        [785,  51, 680, 509, 364, 392],\n",
       "        [784, 356, 297, 419, 681, 211],\n",
       "        [784, 356, 297, 419, 681, 211],\n",
       "        [708,  55, 414, 562, 737,  78],\n",
       "        [754, 512, 367, 350, 202, 570],\n",
       "        [754, 512, 367, 350, 202, 570],\n",
       "        [ 46, 304, 143, 499, 293, 453],\n",
       "        [754, 512, 367, 350, 202, 570],\n",
       "        [708,  55, 414, 562, 737,  78]], dtype=int64),\n",
       " array([[560, 401,  35, 191, 190, 701],\n",
       "        [222, 561,  43, 307, 691, 665],\n",
       "        [449, 674, 758, 374, 670, 655],\n",
       "        [ 48, 624, 396, 574, 138, 762]], dtype=int64))"
      ]
     },
     "execution_count": 35,
     "metadata": {},
     "output_type": "execute_result"
    }
   ],
   "source": [
    "bs_sampling(x)"
   ]
  },
  {
   "cell_type": "code",
   "execution_count": 37,
   "id": "2223ace1-847c-4040-9cf8-9b096cbbea8a",
   "metadata": {
    "tags": []
   },
   "outputs": [],
   "source": [
    "# this is only for 1 tree\n",
    "from sklearn.tree import DecisionTreeRegressor\n",
    "\n",
    "def create_tree(data):\n",
    "    X = data[:,0:-1]\n",
    "    y = data[:,-1]\n",
    "    dt = DecisionTreeRegressor()\n",
    "    dt.fit(X,y)\n",
    "    return dt"
   ]
  },
  {
   "cell_type": "code",
   "execution_count": 38,
   "id": "1259cf49-ef3b-4ff5-8980-59591dcae645",
   "metadata": {
    "tags": []
   },
   "outputs": [
    {
     "data": {
      "text/html": [
       "<style>#sk-container-id-2 {color: black;}#sk-container-id-2 pre{padding: 0;}#sk-container-id-2 div.sk-toggleable {background-color: white;}#sk-container-id-2 label.sk-toggleable__label {cursor: pointer;display: block;width: 100%;margin-bottom: 0;padding: 0.3em;box-sizing: border-box;text-align: center;}#sk-container-id-2 label.sk-toggleable__label-arrow:before {content: \"▸\";float: left;margin-right: 0.25em;color: #696969;}#sk-container-id-2 label.sk-toggleable__label-arrow:hover:before {color: black;}#sk-container-id-2 div.sk-estimator:hover label.sk-toggleable__label-arrow:before {color: black;}#sk-container-id-2 div.sk-toggleable__content {max-height: 0;max-width: 0;overflow: hidden;text-align: left;background-color: #f0f8ff;}#sk-container-id-2 div.sk-toggleable__content pre {margin: 0.2em;color: black;border-radius: 0.25em;background-color: #f0f8ff;}#sk-container-id-2 input.sk-toggleable__control:checked~div.sk-toggleable__content {max-height: 200px;max-width: 100%;overflow: auto;}#sk-container-id-2 input.sk-toggleable__control:checked~label.sk-toggleable__label-arrow:before {content: \"▾\";}#sk-container-id-2 div.sk-estimator input.sk-toggleable__control:checked~label.sk-toggleable__label {background-color: #d4ebff;}#sk-container-id-2 div.sk-label input.sk-toggleable__control:checked~label.sk-toggleable__label {background-color: #d4ebff;}#sk-container-id-2 input.sk-hidden--visually {border: 0;clip: rect(1px 1px 1px 1px);clip: rect(1px, 1px, 1px, 1px);height: 1px;margin: -1px;overflow: hidden;padding: 0;position: absolute;width: 1px;}#sk-container-id-2 div.sk-estimator {font-family: monospace;background-color: #f0f8ff;border: 1px dotted black;border-radius: 0.25em;box-sizing: border-box;margin-bottom: 0.5em;}#sk-container-id-2 div.sk-estimator:hover {background-color: #d4ebff;}#sk-container-id-2 div.sk-parallel-item::after {content: \"\";width: 100%;border-bottom: 1px solid gray;flex-grow: 1;}#sk-container-id-2 div.sk-label:hover label.sk-toggleable__label {background-color: #d4ebff;}#sk-container-id-2 div.sk-serial::before {content: \"\";position: absolute;border-left: 1px solid gray;box-sizing: border-box;top: 0;bottom: 0;left: 50%;z-index: 0;}#sk-container-id-2 div.sk-serial {display: flex;flex-direction: column;align-items: center;background-color: white;padding-right: 0.2em;padding-left: 0.2em;position: relative;}#sk-container-id-2 div.sk-item {position: relative;z-index: 1;}#sk-container-id-2 div.sk-parallel {display: flex;align-items: stretch;justify-content: center;background-color: white;position: relative;}#sk-container-id-2 div.sk-item::before, #sk-container-id-2 div.sk-parallel-item::before {content: \"\";position: absolute;border-left: 1px solid gray;box-sizing: border-box;top: 0;bottom: 0;left: 50%;z-index: -1;}#sk-container-id-2 div.sk-parallel-item {display: flex;flex-direction: column;z-index: 1;position: relative;background-color: white;}#sk-container-id-2 div.sk-parallel-item:first-child::after {align-self: flex-end;width: 50%;}#sk-container-id-2 div.sk-parallel-item:last-child::after {align-self: flex-start;width: 50%;}#sk-container-id-2 div.sk-parallel-item:only-child::after {width: 0;}#sk-container-id-2 div.sk-dashed-wrapped {border: 1px dashed gray;margin: 0 0.4em 0.5em 0.4em;box-sizing: border-box;padding-bottom: 0.4em;background-color: white;}#sk-container-id-2 div.sk-label label {font-family: monospace;font-weight: bold;display: inline-block;line-height: 1.2em;}#sk-container-id-2 div.sk-label-container {text-align: center;}#sk-container-id-2 div.sk-container {/* jupyter's `normalize.less` sets `[hidden] { display: none; }` but bootstrap.min.css set `[hidden] { display: none !important; }` so we also need the `!important` here to be able to override the default hidden behavior on the sphinx rendered scikit-learn.org. See: https://github.com/scikit-learn/scikit-learn/issues/21755 */display: inline-block !important;position: relative;}#sk-container-id-2 div.sk-text-repr-fallback {display: none;}</style><div id=\"sk-container-id-2\" class=\"sk-top-container\"><div class=\"sk-text-repr-fallback\"><pre>DecisionTreeRegressor()</pre><b>In a Jupyter environment, please rerun this cell to show the HTML representation or trust the notebook. <br />On GitHub, the HTML representation is unable to render, please try loading this page with nbviewer.org.</b></div><div class=\"sk-container\" hidden><div class=\"sk-item\"><div class=\"sk-estimator sk-toggleable\"><input class=\"sk-toggleable__control sk-hidden--visually\" id=\"sk-estimator-id-2\" type=\"checkbox\" checked><label for=\"sk-estimator-id-2\" class=\"sk-toggleable__label sk-toggleable__label-arrow\">DecisionTreeRegressor</label><div class=\"sk-toggleable__content\"><pre>DecisionTreeRegressor()</pre></div></div></div></div></div>"
      ],
      "text/plain": [
       "DecisionTreeRegressor()"
      ]
     },
     "execution_count": 38,
     "metadata": {},
     "output_type": "execute_result"
    }
   ],
   "source": [
    "create_tree(x)"
   ]
  },
  {
   "cell_type": "code",
   "execution_count": 39,
   "id": "74847254-f32b-49ed-9278-dea656546df1",
   "metadata": {
    "tags": []
   },
   "outputs": [
    {
     "data": {
      "text/plain": [
       "0.3505050505050505"
      ]
     },
     "execution_count": 39,
     "metadata": {},
     "output_type": "execute_result"
    }
   ],
   "source": [
    "# proporcion de obb\n",
    "oob_samples =[]\n",
    "for i in range(1,100):\n",
    "    bs = rand.choice(x,x.shape[0],replace=True)\n",
    "    n_unique_samples = np.unique(bs, axis=0).shape[0]\n",
    "    oob = (data.shape[0] - n_unique_samples) / x.shape[0]\n",
    "    oob_samples.append(oob)\n",
    "np.mean(oob_samples)"
   ]
  },
  {
   "cell_type": "markdown",
   "id": "0258e250-a451-4a37-9392-7411cf074e14",
   "metadata": {},
   "source": [
    "## Case 2"
   ]
  },
  {
   "cell_type": "code",
   "execution_count": 200,
   "id": "699375f3-ed10-4d34-a0dc-6d525cfa62a6",
   "metadata": {
    "tags": []
   },
   "outputs": [
    {
     "data": {
      "text/plain": [
       "array([[ 71, 619, 523, 351, 346, 686],\n",
       "       [ 68, 557, 161,  75, 421, 780],\n",
       "       [588, 608, 573, 628, 410, 102],\n",
       "       [671, 360, 400, 296, 146, 741],\n",
       "       [625, 515, 321, 658, 436, 354],\n",
       "       [360, 181,  73, 443, 710,  51],\n",
       "       [686, 662, 221, 505, 132, 606],\n",
       "       [560, 283,  54, 776, 356, 714],\n",
       "       [542, 622, 607, 155, 291, 373],\n",
       "       [398,  35, 437, 123, 594, 546]], dtype=int64)"
      ]
     },
     "execution_count": 200,
     "metadata": {},
     "output_type": "execute_result"
    }
   ],
   "source": [
    "#split data (not neccesary if we have who is x and whi is y) in case ir it neccesary do next)\n",
    "rand = default_rng(42)\n",
    "data = rand.integers(0,800,(10,6))\n",
    "data"
   ]
  },
  {
   "cell_type": "code",
   "execution_count": 204,
   "id": "520e2722-e5bf-4662-803c-14b911f86d80",
   "metadata": {
    "tags": []
   },
   "outputs": [
    {
     "data": {
      "text/plain": [
       "array([[ 71, 619, 523, 351, 346, 686],\n",
       "       [ 68, 557, 161,  75, 421, 780],\n",
       "       [588, 608, 573, 628, 410, 102],\n",
       "       [671, 360, 400, 296, 146, 741],\n",
       "       [625, 515, 321, 658, 436, 354],\n",
       "       [360, 181,  73, 443, 710,  51],\n",
       "       [686, 662, 221, 505, 132, 606],\n",
       "       [560, 283,  54, 776, 356, 714],\n",
       "       [542, 622, 607, 155, 291, 373],\n",
       "       [398,  35, 437, 123, 594, 546]])"
      ]
     },
     "execution_count": 204,
     "metadata": {},
     "output_type": "execute_result"
    }
   ],
   "source": [
    "x_a = np.array([[ 71, 619, 523, 351, 346, 686],\n",
    "       [ 68, 557, 161,  75, 421, 780],\n",
    "       [588, 608, 573, 628, 410, 102],\n",
    "       [671, 360, 400, 296, 146, 741],\n",
    "       [625, 515, 321, 658, 436, 354],\n",
    "       [360, 181,  73, 443, 710,  51],\n",
    "       [686, 662, 221, 505, 132, 606],\n",
    "       [560, 283,  54, 776, 356, 714],\n",
    "       [542, 622, 607, 155, 291, 373],\n",
    "       [398,  35, 437, 123, 594, 546]])\n",
    "x_a"
   ]
  },
  {
   "cell_type": "code",
   "execution_count": 205,
   "id": "4b8bfeb6-b54f-407c-936b-d0d93747d85b",
   "metadata": {
    "tags": []
   },
   "outputs": [],
   "source": [
    "x = x_a[:,:5]\n",
    "y = x_a[:,-1]"
   ]
  },
  {
   "cell_type": "code",
   "execution_count": 208,
   "id": "827fa46b-b0e1-497f-a638-5c06166a1bf2",
   "metadata": {
    "tags": []
   },
   "outputs": [
    {
     "data": {
      "text/plain": [
       "array([686, 780, 102, 741, 354,  51, 606, 714, 373, 546])"
      ]
     },
     "execution_count": 208,
     "metadata": {},
     "output_type": "execute_result"
    }
   ],
   "source": [
    "y"
   ]
  },
  {
   "cell_type": "code",
   "execution_count": 48,
   "id": "6e56ba93-d8c7-4047-8650-5b9791a1bffc",
   "metadata": {
    "tags": []
   },
   "outputs": [],
   "source": [
    "from sklearn.model_selection import train_test_split\n",
    "X_train, X_test, y_train, y_test = train_test_split(x, y, random_state=0)"
   ]
  },
  {
   "cell_type": "code",
   "execution_count": 51,
   "id": "0f77ea3e-078c-496b-a950-dbcfe007ebae",
   "metadata": {
    "tags": []
   },
   "outputs": [
    {
     "data": {
      "text/html": [
       "<style>#sk-container-id-4 {color: black;}#sk-container-id-4 pre{padding: 0;}#sk-container-id-4 div.sk-toggleable {background-color: white;}#sk-container-id-4 label.sk-toggleable__label {cursor: pointer;display: block;width: 100%;margin-bottom: 0;padding: 0.3em;box-sizing: border-box;text-align: center;}#sk-container-id-4 label.sk-toggleable__label-arrow:before {content: \"▸\";float: left;margin-right: 0.25em;color: #696969;}#sk-container-id-4 label.sk-toggleable__label-arrow:hover:before {color: black;}#sk-container-id-4 div.sk-estimator:hover label.sk-toggleable__label-arrow:before {color: black;}#sk-container-id-4 div.sk-toggleable__content {max-height: 0;max-width: 0;overflow: hidden;text-align: left;background-color: #f0f8ff;}#sk-container-id-4 div.sk-toggleable__content pre {margin: 0.2em;color: black;border-radius: 0.25em;background-color: #f0f8ff;}#sk-container-id-4 input.sk-toggleable__control:checked~div.sk-toggleable__content {max-height: 200px;max-width: 100%;overflow: auto;}#sk-container-id-4 input.sk-toggleable__control:checked~label.sk-toggleable__label-arrow:before {content: \"▾\";}#sk-container-id-4 div.sk-estimator input.sk-toggleable__control:checked~label.sk-toggleable__label {background-color: #d4ebff;}#sk-container-id-4 div.sk-label input.sk-toggleable__control:checked~label.sk-toggleable__label {background-color: #d4ebff;}#sk-container-id-4 input.sk-hidden--visually {border: 0;clip: rect(1px 1px 1px 1px);clip: rect(1px, 1px, 1px, 1px);height: 1px;margin: -1px;overflow: hidden;padding: 0;position: absolute;width: 1px;}#sk-container-id-4 div.sk-estimator {font-family: monospace;background-color: #f0f8ff;border: 1px dotted black;border-radius: 0.25em;box-sizing: border-box;margin-bottom: 0.5em;}#sk-container-id-4 div.sk-estimator:hover {background-color: #d4ebff;}#sk-container-id-4 div.sk-parallel-item::after {content: \"\";width: 100%;border-bottom: 1px solid gray;flex-grow: 1;}#sk-container-id-4 div.sk-label:hover label.sk-toggleable__label {background-color: #d4ebff;}#sk-container-id-4 div.sk-serial::before {content: \"\";position: absolute;border-left: 1px solid gray;box-sizing: border-box;top: 0;bottom: 0;left: 50%;z-index: 0;}#sk-container-id-4 div.sk-serial {display: flex;flex-direction: column;align-items: center;background-color: white;padding-right: 0.2em;padding-left: 0.2em;position: relative;}#sk-container-id-4 div.sk-item {position: relative;z-index: 1;}#sk-container-id-4 div.sk-parallel {display: flex;align-items: stretch;justify-content: center;background-color: white;position: relative;}#sk-container-id-4 div.sk-item::before, #sk-container-id-4 div.sk-parallel-item::before {content: \"\";position: absolute;border-left: 1px solid gray;box-sizing: border-box;top: 0;bottom: 0;left: 50%;z-index: -1;}#sk-container-id-4 div.sk-parallel-item {display: flex;flex-direction: column;z-index: 1;position: relative;background-color: white;}#sk-container-id-4 div.sk-parallel-item:first-child::after {align-self: flex-end;width: 50%;}#sk-container-id-4 div.sk-parallel-item:last-child::after {align-self: flex-start;width: 50%;}#sk-container-id-4 div.sk-parallel-item:only-child::after {width: 0;}#sk-container-id-4 div.sk-dashed-wrapped {border: 1px dashed gray;margin: 0 0.4em 0.5em 0.4em;box-sizing: border-box;padding-bottom: 0.4em;background-color: white;}#sk-container-id-4 div.sk-label label {font-family: monospace;font-weight: bold;display: inline-block;line-height: 1.2em;}#sk-container-id-4 div.sk-label-container {text-align: center;}#sk-container-id-4 div.sk-container {/* jupyter's `normalize.less` sets `[hidden] { display: none; }` but bootstrap.min.css set `[hidden] { display: none !important; }` so we also need the `!important` here to be able to override the default hidden behavior on the sphinx rendered scikit-learn.org. See: https://github.com/scikit-learn/scikit-learn/issues/21755 */display: inline-block !important;position: relative;}#sk-container-id-4 div.sk-text-repr-fallback {display: none;}</style><div id=\"sk-container-id-4\" class=\"sk-top-container\"><div class=\"sk-text-repr-fallback\"><pre>RandomForestRegressor(oob_score=True)</pre><b>In a Jupyter environment, please rerun this cell to show the HTML representation or trust the notebook. <br />On GitHub, the HTML representation is unable to render, please try loading this page with nbviewer.org.</b></div><div class=\"sk-container\" hidden><div class=\"sk-item\"><div class=\"sk-estimator sk-toggleable\"><input class=\"sk-toggleable__control sk-hidden--visually\" id=\"sk-estimator-id-4\" type=\"checkbox\" checked><label for=\"sk-estimator-id-4\" class=\"sk-toggleable__label sk-toggleable__label-arrow\">RandomForestRegressor</label><div class=\"sk-toggleable__content\"><pre>RandomForestRegressor(oob_score=True)</pre></div></div></div></div></div>"
      ],
      "text/plain": [
       "RandomForestRegressor(oob_score=True)"
      ]
     },
     "execution_count": 51,
     "metadata": {},
     "output_type": "execute_result"
    }
   ],
   "source": [
    "#CREATE MODEL\n",
    "from sklearn.ensemble import RandomForestRegressor\n",
    "rf = RandomForestRegressor(oob_score=True)\n",
    "rf.fit(X_train, y_train)"
   ]
  },
  {
   "cell_type": "code",
   "execution_count": 52,
   "id": "72c1d216-c70a-4fc2-a687-0ff7390296eb",
   "metadata": {
    "tags": []
   },
   "outputs": [],
   "source": [
    "#  Evaluating OOB after 10 runs\n",
    "oob_score=[]\n",
    "for i in range(10):\n",
    "    rf= RandomForestRegressor(n_estimators=100, n_jobs= -1, oob_score= True)\n",
    "    rf= rf.fit(X_train, y_train)\n",
    "    oob_score.append(rf.oob_score_)"
   ]
  },
  {
   "cell_type": "code",
   "execution_count": 53,
   "id": "66d1e8e5-f2e4-4156-98c3-238699b044af",
   "metadata": {
    "tags": []
   },
   "outputs": [
    {
     "data": {
      "text/plain": [
       "-0.530413265648385"
      ]
     },
     "execution_count": 53,
     "metadata": {},
     "output_type": "execute_result"
    }
   ],
   "source": [
    "avg_oob_score = np.mean(oob_score)\n",
    "avg_oob_score"
   ]
  },
  {
   "cell_type": "markdown",
   "id": "d5577a09-0577-4138-b3fd-3393c7eb9249",
   "metadata": {},
   "source": [
    "## Random Forest 3"
   ]
  },
  {
   "cell_type": "code",
   "execution_count": 54,
   "id": "f363b7b0-675b-4980-bf48-69cc62ac3e3e",
   "metadata": {
    "tags": []
   },
   "outputs": [],
   "source": [
    "x = data[:,:5]\n",
    "y = data[:,-1]"
   ]
  },
  {
   "cell_type": "code",
   "execution_count": 57,
   "id": "babeb2b9-f6ce-4405-8753-322d0f6016f0",
   "metadata": {
    "tags": []
   },
   "outputs": [
    {
     "data": {
      "text/html": [
       "<style>#sk-container-id-6 {color: black;}#sk-container-id-6 pre{padding: 0;}#sk-container-id-6 div.sk-toggleable {background-color: white;}#sk-container-id-6 label.sk-toggleable__label {cursor: pointer;display: block;width: 100%;margin-bottom: 0;padding: 0.3em;box-sizing: border-box;text-align: center;}#sk-container-id-6 label.sk-toggleable__label-arrow:before {content: \"▸\";float: left;margin-right: 0.25em;color: #696969;}#sk-container-id-6 label.sk-toggleable__label-arrow:hover:before {color: black;}#sk-container-id-6 div.sk-estimator:hover label.sk-toggleable__label-arrow:before {color: black;}#sk-container-id-6 div.sk-toggleable__content {max-height: 0;max-width: 0;overflow: hidden;text-align: left;background-color: #f0f8ff;}#sk-container-id-6 div.sk-toggleable__content pre {margin: 0.2em;color: black;border-radius: 0.25em;background-color: #f0f8ff;}#sk-container-id-6 input.sk-toggleable__control:checked~div.sk-toggleable__content {max-height: 200px;max-width: 100%;overflow: auto;}#sk-container-id-6 input.sk-toggleable__control:checked~label.sk-toggleable__label-arrow:before {content: \"▾\";}#sk-container-id-6 div.sk-estimator input.sk-toggleable__control:checked~label.sk-toggleable__label {background-color: #d4ebff;}#sk-container-id-6 div.sk-label input.sk-toggleable__control:checked~label.sk-toggleable__label {background-color: #d4ebff;}#sk-container-id-6 input.sk-hidden--visually {border: 0;clip: rect(1px 1px 1px 1px);clip: rect(1px, 1px, 1px, 1px);height: 1px;margin: -1px;overflow: hidden;padding: 0;position: absolute;width: 1px;}#sk-container-id-6 div.sk-estimator {font-family: monospace;background-color: #f0f8ff;border: 1px dotted black;border-radius: 0.25em;box-sizing: border-box;margin-bottom: 0.5em;}#sk-container-id-6 div.sk-estimator:hover {background-color: #d4ebff;}#sk-container-id-6 div.sk-parallel-item::after {content: \"\";width: 100%;border-bottom: 1px solid gray;flex-grow: 1;}#sk-container-id-6 div.sk-label:hover label.sk-toggleable__label {background-color: #d4ebff;}#sk-container-id-6 div.sk-serial::before {content: \"\";position: absolute;border-left: 1px solid gray;box-sizing: border-box;top: 0;bottom: 0;left: 50%;z-index: 0;}#sk-container-id-6 div.sk-serial {display: flex;flex-direction: column;align-items: center;background-color: white;padding-right: 0.2em;padding-left: 0.2em;position: relative;}#sk-container-id-6 div.sk-item {position: relative;z-index: 1;}#sk-container-id-6 div.sk-parallel {display: flex;align-items: stretch;justify-content: center;background-color: white;position: relative;}#sk-container-id-6 div.sk-item::before, #sk-container-id-6 div.sk-parallel-item::before {content: \"\";position: absolute;border-left: 1px solid gray;box-sizing: border-box;top: 0;bottom: 0;left: 50%;z-index: -1;}#sk-container-id-6 div.sk-parallel-item {display: flex;flex-direction: column;z-index: 1;position: relative;background-color: white;}#sk-container-id-6 div.sk-parallel-item:first-child::after {align-self: flex-end;width: 50%;}#sk-container-id-6 div.sk-parallel-item:last-child::after {align-self: flex-start;width: 50%;}#sk-container-id-6 div.sk-parallel-item:only-child::after {width: 0;}#sk-container-id-6 div.sk-dashed-wrapped {border: 1px dashed gray;margin: 0 0.4em 0.5em 0.4em;box-sizing: border-box;padding-bottom: 0.4em;background-color: white;}#sk-container-id-6 div.sk-label label {font-family: monospace;font-weight: bold;display: inline-block;line-height: 1.2em;}#sk-container-id-6 div.sk-label-container {text-align: center;}#sk-container-id-6 div.sk-container {/* jupyter's `normalize.less` sets `[hidden] { display: none; }` but bootstrap.min.css set `[hidden] { display: none !important; }` so we also need the `!important` here to be able to override the default hidden behavior on the sphinx rendered scikit-learn.org. See: https://github.com/scikit-learn/scikit-learn/issues/21755 */display: inline-block !important;position: relative;}#sk-container-id-6 div.sk-text-repr-fallback {display: none;}</style><div id=\"sk-container-id-6\" class=\"sk-top-container\"><div class=\"sk-text-repr-fallback\"><pre>RandomForestRegressor(n_estimators=10)</pre><b>In a Jupyter environment, please rerun this cell to show the HTML representation or trust the notebook. <br />On GitHub, the HTML representation is unable to render, please try loading this page with nbviewer.org.</b></div><div class=\"sk-container\" hidden><div class=\"sk-item\"><div class=\"sk-estimator sk-toggleable\"><input class=\"sk-toggleable__control sk-hidden--visually\" id=\"sk-estimator-id-6\" type=\"checkbox\" checked><label for=\"sk-estimator-id-6\" class=\"sk-toggleable__label sk-toggleable__label-arrow\">RandomForestRegressor</label><div class=\"sk-toggleable__content\"><pre>RandomForestRegressor(n_estimators=10)</pre></div></div></div></div></div>"
      ],
      "text/plain": [
       "RandomForestRegressor(n_estimators=10)"
      ]
     },
     "execution_count": 57,
     "metadata": {},
     "output_type": "execute_result"
    }
   ],
   "source": [
    "# training model without split data\n",
    "from sklearn.ensemble import RandomForestRegressor\n",
    "\n",
    "rf = RandomForestRegressor(n_estimators = 10)\n",
    "\n",
    "rf.fit(x,y)"
   ]
  },
  {
   "cell_type": "code",
   "execution_count": 60,
   "id": "c261a55f-55c6-4d7d-aeab-d3c661f36570",
   "metadata": {
    "tags": []
   },
   "outputs": [
    {
     "data": {
      "text/plain": [
       "array([599.2])"
      ]
     },
     "execution_count": 60,
     "metadata": {},
     "output_type": "execute_result"
    }
   ],
   "source": [
    "#predict a random list of X values\n",
    "import numpy as np\n",
    "list = np.array([2,2,40,-73,5])\n",
    "rf.predict([list])"
   ]
  },
  {
   "cell_type": "markdown",
   "id": "c2b091c9-8546-4d21-a534-8b663161dbdb",
   "metadata": {},
   "source": [
    "# Does the model capture training data relationships?"
   ]
  },
  {
   "cell_type": "code",
   "execution_count": 61,
   "id": "6f0b9ade-6475-49fb-ab6e-e7a4a0a8fae0",
   "metadata": {
    "tags": []
   },
   "outputs": [],
   "source": [
    "from sklearn.metrics import mean_absolute_error"
   ]
  },
  {
   "cell_type": "code",
   "execution_count": 63,
   "id": "96473f49-24e7-45de-9724-8a3dd1fd7424",
   "metadata": {
    "tags": []
   },
   "outputs": [
    {
     "name": "stdout",
     "output_type": "stream",
     "text": [
      "$106 average error; 21.34% error\n"
     ]
    }
   ],
   "source": [
    "# Avergae error without split data\n",
    "preds = rf.predict(x)\n",
    "e = mean_absolute_error(y,preds)\n",
    "ep = e / y.mean() * 100\n",
    "\n",
    "print(f\"${e:.0f} average error; {ep:.2f}% error\")"
   ]
  },
  {
   "cell_type": "code",
   "execution_count": 66,
   "id": "a79303ba-3f69-423b-83be-1083918e2622",
   "metadata": {
    "tags": []
   },
   "outputs": [],
   "source": [
    "#split data\n",
    "from sklearn.model_selection import train_test_split\n",
    "\n",
    "X_train, X_test, y_train , y_test = train_test_split(x,y, test_size = 0.25)"
   ]
  },
  {
   "cell_type": "code",
   "execution_count": 67,
   "id": "795ceced-5a2f-45ef-86ed-131e0dad91d1",
   "metadata": {
    "tags": []
   },
   "outputs": [
    {
     "data": {
      "text/html": [
       "<style>#sk-container-id-7 {color: black;}#sk-container-id-7 pre{padding: 0;}#sk-container-id-7 div.sk-toggleable {background-color: white;}#sk-container-id-7 label.sk-toggleable__label {cursor: pointer;display: block;width: 100%;margin-bottom: 0;padding: 0.3em;box-sizing: border-box;text-align: center;}#sk-container-id-7 label.sk-toggleable__label-arrow:before {content: \"▸\";float: left;margin-right: 0.25em;color: #696969;}#sk-container-id-7 label.sk-toggleable__label-arrow:hover:before {color: black;}#sk-container-id-7 div.sk-estimator:hover label.sk-toggleable__label-arrow:before {color: black;}#sk-container-id-7 div.sk-toggleable__content {max-height: 0;max-width: 0;overflow: hidden;text-align: left;background-color: #f0f8ff;}#sk-container-id-7 div.sk-toggleable__content pre {margin: 0.2em;color: black;border-radius: 0.25em;background-color: #f0f8ff;}#sk-container-id-7 input.sk-toggleable__control:checked~div.sk-toggleable__content {max-height: 200px;max-width: 100%;overflow: auto;}#sk-container-id-7 input.sk-toggleable__control:checked~label.sk-toggleable__label-arrow:before {content: \"▾\";}#sk-container-id-7 div.sk-estimator input.sk-toggleable__control:checked~label.sk-toggleable__label {background-color: #d4ebff;}#sk-container-id-7 div.sk-label input.sk-toggleable__control:checked~label.sk-toggleable__label {background-color: #d4ebff;}#sk-container-id-7 input.sk-hidden--visually {border: 0;clip: rect(1px 1px 1px 1px);clip: rect(1px, 1px, 1px, 1px);height: 1px;margin: -1px;overflow: hidden;padding: 0;position: absolute;width: 1px;}#sk-container-id-7 div.sk-estimator {font-family: monospace;background-color: #f0f8ff;border: 1px dotted black;border-radius: 0.25em;box-sizing: border-box;margin-bottom: 0.5em;}#sk-container-id-7 div.sk-estimator:hover {background-color: #d4ebff;}#sk-container-id-7 div.sk-parallel-item::after {content: \"\";width: 100%;border-bottom: 1px solid gray;flex-grow: 1;}#sk-container-id-7 div.sk-label:hover label.sk-toggleable__label {background-color: #d4ebff;}#sk-container-id-7 div.sk-serial::before {content: \"\";position: absolute;border-left: 1px solid gray;box-sizing: border-box;top: 0;bottom: 0;left: 50%;z-index: 0;}#sk-container-id-7 div.sk-serial {display: flex;flex-direction: column;align-items: center;background-color: white;padding-right: 0.2em;padding-left: 0.2em;position: relative;}#sk-container-id-7 div.sk-item {position: relative;z-index: 1;}#sk-container-id-7 div.sk-parallel {display: flex;align-items: stretch;justify-content: center;background-color: white;position: relative;}#sk-container-id-7 div.sk-item::before, #sk-container-id-7 div.sk-parallel-item::before {content: \"\";position: absolute;border-left: 1px solid gray;box-sizing: border-box;top: 0;bottom: 0;left: 50%;z-index: -1;}#sk-container-id-7 div.sk-parallel-item {display: flex;flex-direction: column;z-index: 1;position: relative;background-color: white;}#sk-container-id-7 div.sk-parallel-item:first-child::after {align-self: flex-end;width: 50%;}#sk-container-id-7 div.sk-parallel-item:last-child::after {align-self: flex-start;width: 50%;}#sk-container-id-7 div.sk-parallel-item:only-child::after {width: 0;}#sk-container-id-7 div.sk-dashed-wrapped {border: 1px dashed gray;margin: 0 0.4em 0.5em 0.4em;box-sizing: border-box;padding-bottom: 0.4em;background-color: white;}#sk-container-id-7 div.sk-label label {font-family: monospace;font-weight: bold;display: inline-block;line-height: 1.2em;}#sk-container-id-7 div.sk-label-container {text-align: center;}#sk-container-id-7 div.sk-container {/* jupyter's `normalize.less` sets `[hidden] { display: none; }` but bootstrap.min.css set `[hidden] { display: none !important; }` so we also need the `!important` here to be able to override the default hidden behavior on the sphinx rendered scikit-learn.org. See: https://github.com/scikit-learn/scikit-learn/issues/21755 */display: inline-block !important;position: relative;}#sk-container-id-7 div.sk-text-repr-fallback {display: none;}</style><div id=\"sk-container-id-7\" class=\"sk-top-container\"><div class=\"sk-text-repr-fallback\"><pre>RandomForestRegressor(n_estimators=10)</pre><b>In a Jupyter environment, please rerun this cell to show the HTML representation or trust the notebook. <br />On GitHub, the HTML representation is unable to render, please try loading this page with nbviewer.org.</b></div><div class=\"sk-container\" hidden><div class=\"sk-item\"><div class=\"sk-estimator sk-toggleable\"><input class=\"sk-toggleable__control sk-hidden--visually\" id=\"sk-estimator-id-7\" type=\"checkbox\" checked><label for=\"sk-estimator-id-7\" class=\"sk-toggleable__label sk-toggleable__label-arrow\">RandomForestRegressor</label><div class=\"sk-toggleable__content\"><pre>RandomForestRegressor(n_estimators=10)</pre></div></div></div></div></div>"
      ],
      "text/plain": [
       "RandomForestRegressor(n_estimators=10)"
      ]
     },
     "execution_count": 67,
     "metadata": {},
     "output_type": "execute_result"
    }
   ],
   "source": [
    "rf = RandomForestRegressor(n_estimators = 10)\n",
    "\n",
    "rf.fit(X_train,y_train)"
   ]
  },
  {
   "cell_type": "code",
   "execution_count": 69,
   "id": "6f3e43d3-fbbc-4893-9434-ad07084f2f9d",
   "metadata": {
    "tags": []
   },
   "outputs": [
    {
     "name": "stdout",
     "output_type": "stream",
     "text": [
      "$388 average error; 78.29% error\n"
     ]
    }
   ],
   "source": [
    "#average error after splitting data\n",
    "preds = rf.predict(X_test)\n",
    "e = mean_absolute_error(y_test,preds)\n",
    "ep = e / y.mean() * 100\n",
    "\n",
    "print(f\"${e:.0f} average error; {ep:.2f}% error\")"
   ]
  },
  {
   "cell_type": "markdown",
   "id": "f10443a3-25cf-4806-b686-597f1cdbc008",
   "metadata": {},
   "source": [
    "### Hyper-parameters"
   ]
  },
  {
   "cell_type": "code",
   "execution_count": 71,
   "id": "34b99751-7806-4e72-a868-7c7cb0771dff",
   "metadata": {
    "tags": []
   },
   "outputs": [
    {
     "data": {
      "text/html": [
       "<style>#sk-container-id-9 {color: black;}#sk-container-id-9 pre{padding: 0;}#sk-container-id-9 div.sk-toggleable {background-color: white;}#sk-container-id-9 label.sk-toggleable__label {cursor: pointer;display: block;width: 100%;margin-bottom: 0;padding: 0.3em;box-sizing: border-box;text-align: center;}#sk-container-id-9 label.sk-toggleable__label-arrow:before {content: \"▸\";float: left;margin-right: 0.25em;color: #696969;}#sk-container-id-9 label.sk-toggleable__label-arrow:hover:before {color: black;}#sk-container-id-9 div.sk-estimator:hover label.sk-toggleable__label-arrow:before {color: black;}#sk-container-id-9 div.sk-toggleable__content {max-height: 0;max-width: 0;overflow: hidden;text-align: left;background-color: #f0f8ff;}#sk-container-id-9 div.sk-toggleable__content pre {margin: 0.2em;color: black;border-radius: 0.25em;background-color: #f0f8ff;}#sk-container-id-9 input.sk-toggleable__control:checked~div.sk-toggleable__content {max-height: 200px;max-width: 100%;overflow: auto;}#sk-container-id-9 input.sk-toggleable__control:checked~label.sk-toggleable__label-arrow:before {content: \"▾\";}#sk-container-id-9 div.sk-estimator input.sk-toggleable__control:checked~label.sk-toggleable__label {background-color: #d4ebff;}#sk-container-id-9 div.sk-label input.sk-toggleable__control:checked~label.sk-toggleable__label {background-color: #d4ebff;}#sk-container-id-9 input.sk-hidden--visually {border: 0;clip: rect(1px 1px 1px 1px);clip: rect(1px, 1px, 1px, 1px);height: 1px;margin: -1px;overflow: hidden;padding: 0;position: absolute;width: 1px;}#sk-container-id-9 div.sk-estimator {font-family: monospace;background-color: #f0f8ff;border: 1px dotted black;border-radius: 0.25em;box-sizing: border-box;margin-bottom: 0.5em;}#sk-container-id-9 div.sk-estimator:hover {background-color: #d4ebff;}#sk-container-id-9 div.sk-parallel-item::after {content: \"\";width: 100%;border-bottom: 1px solid gray;flex-grow: 1;}#sk-container-id-9 div.sk-label:hover label.sk-toggleable__label {background-color: #d4ebff;}#sk-container-id-9 div.sk-serial::before {content: \"\";position: absolute;border-left: 1px solid gray;box-sizing: border-box;top: 0;bottom: 0;left: 50%;z-index: 0;}#sk-container-id-9 div.sk-serial {display: flex;flex-direction: column;align-items: center;background-color: white;padding-right: 0.2em;padding-left: 0.2em;position: relative;}#sk-container-id-9 div.sk-item {position: relative;z-index: 1;}#sk-container-id-9 div.sk-parallel {display: flex;align-items: stretch;justify-content: center;background-color: white;position: relative;}#sk-container-id-9 div.sk-item::before, #sk-container-id-9 div.sk-parallel-item::before {content: \"\";position: absolute;border-left: 1px solid gray;box-sizing: border-box;top: 0;bottom: 0;left: 50%;z-index: -1;}#sk-container-id-9 div.sk-parallel-item {display: flex;flex-direction: column;z-index: 1;position: relative;background-color: white;}#sk-container-id-9 div.sk-parallel-item:first-child::after {align-self: flex-end;width: 50%;}#sk-container-id-9 div.sk-parallel-item:last-child::after {align-self: flex-start;width: 50%;}#sk-container-id-9 div.sk-parallel-item:only-child::after {width: 0;}#sk-container-id-9 div.sk-dashed-wrapped {border: 1px dashed gray;margin: 0 0.4em 0.5em 0.4em;box-sizing: border-box;padding-bottom: 0.4em;background-color: white;}#sk-container-id-9 div.sk-label label {font-family: monospace;font-weight: bold;display: inline-block;line-height: 1.2em;}#sk-container-id-9 div.sk-label-container {text-align: center;}#sk-container-id-9 div.sk-container {/* jupyter's `normalize.less` sets `[hidden] { display: none; }` but bootstrap.min.css set `[hidden] { display: none !important; }` so we also need the `!important` here to be able to override the default hidden behavior on the sphinx rendered scikit-learn.org. See: https://github.com/scikit-learn/scikit-learn/issues/21755 */display: inline-block !important;position: relative;}#sk-container-id-9 div.sk-text-repr-fallback {display: none;}</style><div id=\"sk-container-id-9\" class=\"sk-top-container\"><div class=\"sk-text-repr-fallback\"><pre>RandomForestRegressor()</pre><b>In a Jupyter environment, please rerun this cell to show the HTML representation or trust the notebook. <br />On GitHub, the HTML representation is unable to render, please try loading this page with nbviewer.org.</b></div><div class=\"sk-container\" hidden><div class=\"sk-item\"><div class=\"sk-estimator sk-toggleable\"><input class=\"sk-toggleable__control sk-hidden--visually\" id=\"sk-estimator-id-9\" type=\"checkbox\" checked><label for=\"sk-estimator-id-9\" class=\"sk-toggleable__label sk-toggleable__label-arrow\">RandomForestRegressor</label><div class=\"sk-toggleable__content\"><pre>RandomForestRegressor()</pre></div></div></div></div></div>"
      ],
      "text/plain": [
       "RandomForestRegressor()"
      ]
     },
     "execution_count": 71,
     "metadata": {},
     "output_type": "execute_result"
    }
   ],
   "source": [
    "rf_100 = RandomForestRegressor(n_estimators = 100)\n",
    "\n",
    "rf_100.fit(X_train,y_train)"
   ]
  },
  {
   "cell_type": "code",
   "execution_count": 72,
   "id": "1ae83f54-29a7-4f87-815f-ae9e69d88d82",
   "metadata": {
    "tags": []
   },
   "outputs": [
    {
     "name": "stdout",
     "output_type": "stream",
     "text": [
      "$390 average error; 78.82% error\n"
     ]
    }
   ],
   "source": [
    "preds = rf_100.predict(X_test)\n",
    "e = mean_absolute_error(y_test,preds)\n",
    "ep = e / y.mean() * 100\n",
    "\n",
    "print(f\"${e:.0f} average error; {ep:.2f}% error\")"
   ]
  },
  {
   "cell_type": "markdown",
   "id": "1f295dd2-615a-4e65-b5de-851b6f2df8b3",
   "metadata": {},
   "source": [
    "## Feature importance"
   ]
  },
  {
   "cell_type": "code",
   "execution_count": 22,
   "id": "280f0e78-d320-40be-a604-d67cde384081",
   "metadata": {
    "tags": []
   },
   "outputs": [],
   "source": [
    "import pandas as pd\n",
    "rent = pd.read_csv('rent.csv')"
   ]
  },
  {
   "cell_type": "code",
   "execution_count": 7,
   "id": "f3ad5238-e394-4c45-abaf-a0a1211ca221",
   "metadata": {
    "tags": []
   },
   "outputs": [],
   "source": [
    "rent_clean = rent[(rent['price'] > 1000) & (rent['price'] < 10000)]\n",
    "rent_clean = rent_clean[(rent_clean['longitude'] !=0) | (rent_clean['latitude']!=0)]\n",
    "rent_clean = rent_clean[(rent_clean['latitude']>40.55) &\n",
    "                        (rent_clean['latitude']<40.94) &\n",
    "                        (rent_clean['longitude']>-74.1) &\n",
    "                        (rent_clean['longitude']<-73.67)]"
   ]
  },
  {
   "cell_type": "code",
   "execution_count": 10,
   "id": "875e208b-d143-457b-8e15-a413c7ad8a31",
   "metadata": {
    "tags": []
   },
   "outputs": [
    {
     "name": "stdout",
     "output_type": "stream",
     "text": [
      "Out-of-bag R^2 for baseline model is: 0.8680622153385407\n"
     ]
    }
   ],
   "source": [
    "#define X and Y\n",
    "numfeatures = ['bathrooms', 'bedrooms', 'longitude', 'latitude']\n",
    "X = rent_clean[numfeatures]\n",
    "y = rent_clean['price']\n",
    "\n",
    "#create baseline model\n",
    "rf = RandomForestRegressor(n_estimators=100, n_jobs=-1, oob_score=True)\n",
    "rf.fit(X, y)\n",
    "# get OOB from baseline model\n",
    "oob_baseline = rf.oob_score_\n",
    "print(f\"Out-of-bag R^2 for baseline model is: {oob_baseline}\")"
   ]
  },
  {
   "cell_type": "code",
   "execution_count": 27,
   "id": "10c063a8-4a93-493e-8a7e-89ac0345d92b",
   "metadata": {
    "tags": []
   },
   "outputs": [],
   "source": [
    "# Create baseline model as a function showing rfnodes and maxdepth\n",
    "def evaluate(X, y):\n",
    "    rf = RandomForestRegressor(n_estimators=100, n_jobs=-1, oob_score=True)\n",
    "    rf.fit(X, y)\n",
    "    oob = rf.oob_score_\n",
    "    n = rfnnodes(rf)\n",
    "    h = np.median(rfmaxdepths(rf))\n",
    "    print(f\"OOB R^2 is {oob:.5f} using {n:,d} tree nodes with {h} median tree depth\")\n",
    "    return rf, oob"
   ]
  },
  {
   "cell_type": "code",
   "execution_count": 13,
   "id": "15296fac-83e2-4b28-b091-1622a0360d24",
   "metadata": {
    "tags": []
   },
   "outputs": [
    {
     "name": "stdout",
     "output_type": "stream",
     "text": [
      "OOB R^2 is 0.86767 using 2,432,328 tree nodes with 35.0 median tree depth\n"
     ]
    },
    {
     "data": {
      "text/plain": [
       "(RandomForestRegressor(n_jobs=-1, oob_score=True), 0.8676653764742874)"
      ]
     },
     "execution_count": 13,
     "metadata": {},
     "output_type": "execute_result"
    }
   ],
   "source": [
    "evaluate(X, y)"
   ]
  },
  {
   "cell_type": "code",
   "execution_count": 16,
   "id": "cf439149-8ca3-4b30-a89c-77cdba4d4cd2",
   "metadata": {
    "tags": []
   },
   "outputs": [
    {
     "data": {
      "text/html": [
       "<div>\n",
       "<style scoped>\n",
       "    .dataframe tbody tr th:only-of-type {\n",
       "        vertical-align: middle;\n",
       "    }\n",
       "\n",
       "    .dataframe tbody tr th {\n",
       "        vertical-align: top;\n",
       "    }\n",
       "\n",
       "    .dataframe thead th {\n",
       "        text-align: right;\n",
       "    }\n",
       "</style>\n",
       "<table border=\"1\" class=\"dataframe\">\n",
       "  <thead>\n",
       "    <tr style=\"text-align: right;\">\n",
       "      <th></th>\n",
       "      <th>Importance</th>\n",
       "    </tr>\n",
       "    <tr>\n",
       "      <th>Feature</th>\n",
       "      <th></th>\n",
       "    </tr>\n",
       "  </thead>\n",
       "  <tbody>\n",
       "    <tr>\n",
       "      <th>longitude</th>\n",
       "      <td>0.639354</td>\n",
       "    </tr>\n",
       "    <tr>\n",
       "      <th>bedrooms</th>\n",
       "      <td>0.614460</td>\n",
       "    </tr>\n",
       "    <tr>\n",
       "      <th>latitude</th>\n",
       "      <td>0.531310</td>\n",
       "    </tr>\n",
       "    <tr>\n",
       "      <th>bathrooms</th>\n",
       "      <td>0.476974</td>\n",
       "    </tr>\n",
       "  </tbody>\n",
       "</table>\n",
       "</div>"
      ],
      "text/plain": [
       "           Importance\n",
       "Feature              \n",
       "longitude    0.639354\n",
       "bedrooms     0.614460\n",
       "latitude     0.531310\n",
       "bathrooms    0.476974"
      ]
     },
     "execution_count": 16,
     "metadata": {},
     "output_type": "execute_result"
    }
   ],
   "source": [
    "# i have not done the split\n",
    "features_ranking = importances(rf, X, y)\n",
    "features_ranking"
   ]
  },
  {
   "cell_type": "code",
   "execution_count": 18,
   "id": "32cad44b-d90d-46b7-9f6c-c3b58cbd0dc7",
   "metadata": {
    "tags": []
   },
   "outputs": [],
   "source": [
    "#after spliting\n",
    "from sklearn.model_selection import train_test_split\n",
    "X_train, X_test, y_train , y_test = train_test_split(X,y, test_size = 0.25)"
   ]
  },
  {
   "cell_type": "code",
   "execution_count": 19,
   "id": "19c6f23d-0c37-4461-a90f-d0897de9fe60",
   "metadata": {
    "tags": []
   },
   "outputs": [
    {
     "data": {
      "text/html": [
       "<style>#sk-container-id-1 {color: black;}#sk-container-id-1 pre{padding: 0;}#sk-container-id-1 div.sk-toggleable {background-color: white;}#sk-container-id-1 label.sk-toggleable__label {cursor: pointer;display: block;width: 100%;margin-bottom: 0;padding: 0.3em;box-sizing: border-box;text-align: center;}#sk-container-id-1 label.sk-toggleable__label-arrow:before {content: \"▸\";float: left;margin-right: 0.25em;color: #696969;}#sk-container-id-1 label.sk-toggleable__label-arrow:hover:before {color: black;}#sk-container-id-1 div.sk-estimator:hover label.sk-toggleable__label-arrow:before {color: black;}#sk-container-id-1 div.sk-toggleable__content {max-height: 0;max-width: 0;overflow: hidden;text-align: left;background-color: #f0f8ff;}#sk-container-id-1 div.sk-toggleable__content pre {margin: 0.2em;color: black;border-radius: 0.25em;background-color: #f0f8ff;}#sk-container-id-1 input.sk-toggleable__control:checked~div.sk-toggleable__content {max-height: 200px;max-width: 100%;overflow: auto;}#sk-container-id-1 input.sk-toggleable__control:checked~label.sk-toggleable__label-arrow:before {content: \"▾\";}#sk-container-id-1 div.sk-estimator input.sk-toggleable__control:checked~label.sk-toggleable__label {background-color: #d4ebff;}#sk-container-id-1 div.sk-label input.sk-toggleable__control:checked~label.sk-toggleable__label {background-color: #d4ebff;}#sk-container-id-1 input.sk-hidden--visually {border: 0;clip: rect(1px 1px 1px 1px);clip: rect(1px, 1px, 1px, 1px);height: 1px;margin: -1px;overflow: hidden;padding: 0;position: absolute;width: 1px;}#sk-container-id-1 div.sk-estimator {font-family: monospace;background-color: #f0f8ff;border: 1px dotted black;border-radius: 0.25em;box-sizing: border-box;margin-bottom: 0.5em;}#sk-container-id-1 div.sk-estimator:hover {background-color: #d4ebff;}#sk-container-id-1 div.sk-parallel-item::after {content: \"\";width: 100%;border-bottom: 1px solid gray;flex-grow: 1;}#sk-container-id-1 div.sk-label:hover label.sk-toggleable__label {background-color: #d4ebff;}#sk-container-id-1 div.sk-serial::before {content: \"\";position: absolute;border-left: 1px solid gray;box-sizing: border-box;top: 0;bottom: 0;left: 50%;z-index: 0;}#sk-container-id-1 div.sk-serial {display: flex;flex-direction: column;align-items: center;background-color: white;padding-right: 0.2em;padding-left: 0.2em;position: relative;}#sk-container-id-1 div.sk-item {position: relative;z-index: 1;}#sk-container-id-1 div.sk-parallel {display: flex;align-items: stretch;justify-content: center;background-color: white;position: relative;}#sk-container-id-1 div.sk-item::before, #sk-container-id-1 div.sk-parallel-item::before {content: \"\";position: absolute;border-left: 1px solid gray;box-sizing: border-box;top: 0;bottom: 0;left: 50%;z-index: -1;}#sk-container-id-1 div.sk-parallel-item {display: flex;flex-direction: column;z-index: 1;position: relative;background-color: white;}#sk-container-id-1 div.sk-parallel-item:first-child::after {align-self: flex-end;width: 50%;}#sk-container-id-1 div.sk-parallel-item:last-child::after {align-self: flex-start;width: 50%;}#sk-container-id-1 div.sk-parallel-item:only-child::after {width: 0;}#sk-container-id-1 div.sk-dashed-wrapped {border: 1px dashed gray;margin: 0 0.4em 0.5em 0.4em;box-sizing: border-box;padding-bottom: 0.4em;background-color: white;}#sk-container-id-1 div.sk-label label {font-family: monospace;font-weight: bold;display: inline-block;line-height: 1.2em;}#sk-container-id-1 div.sk-label-container {text-align: center;}#sk-container-id-1 div.sk-container {/* jupyter's `normalize.less` sets `[hidden] { display: none; }` but bootstrap.min.css set `[hidden] { display: none !important; }` so we also need the `!important` here to be able to override the default hidden behavior on the sphinx rendered scikit-learn.org. See: https://github.com/scikit-learn/scikit-learn/issues/21755 */display: inline-block !important;position: relative;}#sk-container-id-1 div.sk-text-repr-fallback {display: none;}</style><div id=\"sk-container-id-1\" class=\"sk-top-container\"><div class=\"sk-text-repr-fallback\"><pre>RandomForestRegressor(n_estimators=10)</pre><b>In a Jupyter environment, please rerun this cell to show the HTML representation or trust the notebook. <br />On GitHub, the HTML representation is unable to render, please try loading this page with nbviewer.org.</b></div><div class=\"sk-container\" hidden><div class=\"sk-item\"><div class=\"sk-estimator sk-toggleable\"><input class=\"sk-toggleable__control sk-hidden--visually\" id=\"sk-estimator-id-1\" type=\"checkbox\" checked><label for=\"sk-estimator-id-1\" class=\"sk-toggleable__label sk-toggleable__label-arrow\">RandomForestRegressor</label><div class=\"sk-toggleable__content\"><pre>RandomForestRegressor(n_estimators=10)</pre></div></div></div></div></div>"
      ],
      "text/plain": [
       "RandomForestRegressor(n_estimators=10)"
      ]
     },
     "execution_count": 19,
     "metadata": {},
     "output_type": "execute_result"
    }
   ],
   "source": [
    "rf = RandomForestRegressor(n_estimators = 10)\n",
    "rf.fit(X_train,y_train)"
   ]
  },
  {
   "cell_type": "markdown",
   "id": "f8940472-d87b-44fc-ae10-067304176fb4",
   "metadata": {},
   "source": [
    "### Feature importance with RFPIMP"
   ]
  },
  {
   "cell_type": "code",
   "execution_count": 21,
   "id": "5ab00802-bf6f-4d42-8edc-460f60e21c2a",
   "metadata": {
    "tags": []
   },
   "outputs": [
    {
     "name": "stdout",
     "output_type": "stream",
     "text": [
      "           Importance\n",
      "Feature              \n",
      "bedrooms     0.541811\n",
      "longitude    0.530322\n",
      "latitude     0.438200\n",
      "bathrooms    0.428846\n"
     ]
    }
   ],
   "source": [
    "from rfpimp import importances\n",
    "\n",
    "features_ranking = importances(rf, X_test, y_test)\n",
    "print(features_ranking)"
   ]
  },
  {
   "cell_type": "markdown",
   "id": "212f31b1-6160-416b-b221-038a68983219",
   "metadata": {},
   "source": [
    "### Feature importance with Permutation Importance SCRATCH"
   ]
  },
  {
   "cell_type": "code",
   "execution_count": 23,
   "id": "97a51ad8-842d-4bf7-a1f9-3fd2835174b7",
   "metadata": {
    "tags": []
   },
   "outputs": [],
   "source": [
    "def perm_importances(X, y):\n",
    "    rf = RandomForestRegressor(n_estimators=100, n_jobs=-1, oob_score=True, random_state=999)\n",
    "    rf.fit(X, y)\n",
    "    r2 = rf.oob_score_\n",
    "    print(f\"Baseline R^2 with no columns permuted: {r2:.5f}\\n\")\n",
    "    for col in X.columns:\n",
    "        X_col = X.copy()\n",
    "        X_col[col] = X_col[col].sample(frac=1).values\n",
    "        rf.fit(X_col, y)\n",
    "        r2_col = rf.oob_score_\n",
    "        print(f\"Permuting column {col}: new R^2 is {r2_col:.5f} and difference from baseline is {r2 - r2_col:.5f}\")"
   ]
  },
  {
   "cell_type": "code",
   "execution_count": 24,
   "id": "ee3ed782-bed9-4c86-a842-6ae9bd73b4e0",
   "metadata": {
    "tags": []
   },
   "outputs": [
    {
     "name": "stdout",
     "output_type": "stream",
     "text": [
      "Baseline R^2 with no columns permuted: 0.86763\n",
      "\n",
      "Permuting column bathrooms: new R^2 is 0.81411 and difference from baseline is 0.05352\n",
      "Permuting column bedrooms: new R^2 is 0.75463 and difference from baseline is 0.11299\n",
      "Permuting column longitude: new R^2 is 0.68235 and difference from baseline is 0.18528\n",
      "Permuting column latitude: new R^2 is 0.68480 and difference from baseline is 0.18283\n"
     ]
    }
   ],
   "source": [
    "perm_importances(X, y)"
   ]
  },
  {
   "cell_type": "markdown",
   "id": "434b96df-a679-4d5a-9ae0-cd3e34d51332",
   "metadata": {},
   "source": [
    "### Feature importance with Dropped Column Importance SCRATCH"
   ]
  },
  {
   "cell_type": "code",
   "execution_count": 25,
   "id": "f9a6f13b-581c-43f6-9fb7-2bacb780ba7d",
   "metadata": {
    "tags": []
   },
   "outputs": [],
   "source": [
    "def drop_importances(X, y):\n",
    "    rf = RandomForestRegressor(n_estimators=100, n_jobs=-1, oob_score=True, random_state=999)\n",
    "    rf.fit(X, y)\n",
    "    r2 = rf.oob_score_\n",
    "    print(f\"Baseline R^2 with no columns dropped: {r2:.5f}\\n\")\n",
    "    for col in X.columns:\n",
    "        X_col = X.copy()\n",
    "        X_col = X_col.drop(col, axis=1) \n",
    "        rf.fit(X_col, y)\n",
    "        r2_col = rf.oob_score_\n",
    "        print(f\"Dropping column {col}: new R^2 is {r2_col:.5f} and difference from baseline is {r2 - r2_col:.5f}\")"
   ]
  },
  {
   "cell_type": "code",
   "execution_count": 26,
   "id": "e6e67889-dbcc-467b-951b-cc905f8e4486",
   "metadata": {
    "tags": []
   },
   "outputs": [
    {
     "name": "stdout",
     "output_type": "stream",
     "text": [
      "Baseline R^2 with no columns dropped: 0.86763\n",
      "\n",
      "Dropping column bathrooms: new R^2 is 0.81941 and difference from baseline is 0.04821\n",
      "Dropping column bedrooms: new R^2 is 0.77719 and difference from baseline is 0.09044\n",
      "Dropping column longitude: new R^2 is 0.73451 and difference from baseline is 0.13311\n",
      "Dropping column latitude: new R^2 is 0.74144 and difference from baseline is 0.12619\n"
     ]
    }
   ],
   "source": [
    "drop_importances(X, y)"
   ]
  },
  {
   "cell_type": "code",
   "execution_count": 107,
   "id": "5b8b0682-a7fa-45c9-9596-d314fa90a9e3",
   "metadata": {
    "tags": []
   },
   "outputs": [],
   "source": [
    "import warnings\n",
    "warnings.filterwarnings(\"ignore\")\n",
    "\n",
    "import numpy as np\n",
    "import pandas as pd\n",
    "import io\n",
    "import requests\n",
    "from sklearn.ensemble import RandomForestClassifier"
   ]
  },
  {
   "cell_type": "code",
   "execution_count": 114,
   "id": "74621a81-4839-40dd-819b-686e87453047",
   "metadata": {
    "tags": []
   },
   "outputs": [],
   "source": [
    "# EJERCICIO feature importance \n",
    "#If data1.sample(n=91,random_state=54) is your data where 'sex' is target, what would be the feature importance for feature 'hip.gi'\n",
    "# with using baseline random forest model with 77 trees and random_state = 54?\n",
    "df_url = 'https://raw.githubusercontent.com/akmand/datasets/master/openintro/bdims.csv'\n",
    "url_content = requests.get(df_url, verify=False).content\n",
    "data1 = pd.read_csv(io.StringIO(url_content.decode('utf-8')))"
   ]
  },
  {
   "cell_type": "code",
   "execution_count": 109,
   "id": "c1f73c6c-c58b-4857-bbbe-517ebef98a60",
   "metadata": {
    "tags": []
   },
   "outputs": [],
   "source": [
    "df= data1.sample(n=91, random_state=54)"
   ]
  },
  {
   "cell_type": "code",
   "execution_count": 110,
   "id": "bb06d4a9-f018-4b3b-877b-182d4df5453c",
   "metadata": {
    "tags": []
   },
   "outputs": [],
   "source": [
    "clf = RandomForestClassifier(n_estimators=77,random_state=54)"
   ]
  },
  {
   "cell_type": "code",
   "execution_count": 111,
   "id": "14a04302-4a3c-4826-b6d9-5b08b7b4a724",
   "metadata": {
    "tags": []
   },
   "outputs": [],
   "source": [
    "x= df.drop('sex', axis=1)\n",
    "y= df[['sex']]"
   ]
  },
  {
   "cell_type": "code",
   "execution_count": 112,
   "id": "9eea49c2-6687-4b14-856d-cc1cab98602b",
   "metadata": {
    "tags": []
   },
   "outputs": [
    {
     "data": {
      "text/html": [
       "<style>#sk-container-id-4 {color: black;}#sk-container-id-4 pre{padding: 0;}#sk-container-id-4 div.sk-toggleable {background-color: white;}#sk-container-id-4 label.sk-toggleable__label {cursor: pointer;display: block;width: 100%;margin-bottom: 0;padding: 0.3em;box-sizing: border-box;text-align: center;}#sk-container-id-4 label.sk-toggleable__label-arrow:before {content: \"▸\";float: left;margin-right: 0.25em;color: #696969;}#sk-container-id-4 label.sk-toggleable__label-arrow:hover:before {color: black;}#sk-container-id-4 div.sk-estimator:hover label.sk-toggleable__label-arrow:before {color: black;}#sk-container-id-4 div.sk-toggleable__content {max-height: 0;max-width: 0;overflow: hidden;text-align: left;background-color: #f0f8ff;}#sk-container-id-4 div.sk-toggleable__content pre {margin: 0.2em;color: black;border-radius: 0.25em;background-color: #f0f8ff;}#sk-container-id-4 input.sk-toggleable__control:checked~div.sk-toggleable__content {max-height: 200px;max-width: 100%;overflow: auto;}#sk-container-id-4 input.sk-toggleable__control:checked~label.sk-toggleable__label-arrow:before {content: \"▾\";}#sk-container-id-4 div.sk-estimator input.sk-toggleable__control:checked~label.sk-toggleable__label {background-color: #d4ebff;}#sk-container-id-4 div.sk-label input.sk-toggleable__control:checked~label.sk-toggleable__label {background-color: #d4ebff;}#sk-container-id-4 input.sk-hidden--visually {border: 0;clip: rect(1px 1px 1px 1px);clip: rect(1px, 1px, 1px, 1px);height: 1px;margin: -1px;overflow: hidden;padding: 0;position: absolute;width: 1px;}#sk-container-id-4 div.sk-estimator {font-family: monospace;background-color: #f0f8ff;border: 1px dotted black;border-radius: 0.25em;box-sizing: border-box;margin-bottom: 0.5em;}#sk-container-id-4 div.sk-estimator:hover {background-color: #d4ebff;}#sk-container-id-4 div.sk-parallel-item::after {content: \"\";width: 100%;border-bottom: 1px solid gray;flex-grow: 1;}#sk-container-id-4 div.sk-label:hover label.sk-toggleable__label {background-color: #d4ebff;}#sk-container-id-4 div.sk-serial::before {content: \"\";position: absolute;border-left: 1px solid gray;box-sizing: border-box;top: 0;bottom: 0;left: 50%;z-index: 0;}#sk-container-id-4 div.sk-serial {display: flex;flex-direction: column;align-items: center;background-color: white;padding-right: 0.2em;padding-left: 0.2em;position: relative;}#sk-container-id-4 div.sk-item {position: relative;z-index: 1;}#sk-container-id-4 div.sk-parallel {display: flex;align-items: stretch;justify-content: center;background-color: white;position: relative;}#sk-container-id-4 div.sk-item::before, #sk-container-id-4 div.sk-parallel-item::before {content: \"\";position: absolute;border-left: 1px solid gray;box-sizing: border-box;top: 0;bottom: 0;left: 50%;z-index: -1;}#sk-container-id-4 div.sk-parallel-item {display: flex;flex-direction: column;z-index: 1;position: relative;background-color: white;}#sk-container-id-4 div.sk-parallel-item:first-child::after {align-self: flex-end;width: 50%;}#sk-container-id-4 div.sk-parallel-item:last-child::after {align-self: flex-start;width: 50%;}#sk-container-id-4 div.sk-parallel-item:only-child::after {width: 0;}#sk-container-id-4 div.sk-dashed-wrapped {border: 1px dashed gray;margin: 0 0.4em 0.5em 0.4em;box-sizing: border-box;padding-bottom: 0.4em;background-color: white;}#sk-container-id-4 div.sk-label label {font-family: monospace;font-weight: bold;display: inline-block;line-height: 1.2em;}#sk-container-id-4 div.sk-label-container {text-align: center;}#sk-container-id-4 div.sk-container {/* jupyter's `normalize.less` sets `[hidden] { display: none; }` but bootstrap.min.css set `[hidden] { display: none !important; }` so we also need the `!important` here to be able to override the default hidden behavior on the sphinx rendered scikit-learn.org. See: https://github.com/scikit-learn/scikit-learn/issues/21755 */display: inline-block !important;position: relative;}#sk-container-id-4 div.sk-text-repr-fallback {display: none;}</style><div id=\"sk-container-id-4\" class=\"sk-top-container\"><div class=\"sk-text-repr-fallback\"><pre>RandomForestClassifier(n_estimators=77, random_state=54)</pre><b>In a Jupyter environment, please rerun this cell to show the HTML representation or trust the notebook. <br />On GitHub, the HTML representation is unable to render, please try loading this page with nbviewer.org.</b></div><div class=\"sk-container\" hidden><div class=\"sk-item\"><div class=\"sk-estimator sk-toggleable\"><input class=\"sk-toggleable__control sk-hidden--visually\" id=\"sk-estimator-id-4\" type=\"checkbox\" checked><label for=\"sk-estimator-id-4\" class=\"sk-toggleable__label sk-toggleable__label-arrow\">RandomForestClassifier</label><div class=\"sk-toggleable__content\"><pre>RandomForestClassifier(n_estimators=77, random_state=54)</pre></div></div></div></div></div>"
      ],
      "text/plain": [
       "RandomForestClassifier(n_estimators=77, random_state=54)"
      ]
     },
     "execution_count": 112,
     "metadata": {},
     "output_type": "execute_result"
    }
   ],
   "source": [
    "clf.fit(x,y)"
   ]
  },
  {
   "cell_type": "code",
   "execution_count": 113,
   "id": "3a01d932-c0b9-43b9-a230-086c9f7d5a58",
   "metadata": {
    "tags": []
   },
   "outputs": [
    {
     "data": {
      "text/plain": [
       "radius error            0.300708\n",
       "texture error           0.081460\n",
       "concave points error    0.140882\n",
       "symmetry error          0.073412\n",
       "worst texture           0.176907\n",
       "worst smoothness        0.103266\n",
       "worst symmetry          0.123364\n",
       "dtype: float64"
      ]
     },
     "execution_count": 113,
     "metadata": {},
     "output_type": "execute_result"
    }
   ],
   "source": [
    "pd.Series(index = cl.feature_names_in_, data = cl.feature_importances_)"
   ]
  },
  {
   "cell_type": "markdown",
   "id": "05f2c605-7ab2-43f3-8e3a-f5519eae5e00",
   "metadata": {},
   "source": [
    "# Clasification RandomForest"
   ]
  },
  {
   "cell_type": "code",
   "execution_count": 29,
   "id": "860c3758-f3ed-4a29-a1f3-209c39206f61",
   "metadata": {
    "tags": []
   },
   "outputs": [],
   "source": [
    "from sklearn.datasets import load_breast_cancer\n",
    "\n",
    "cancer = load_breast_cancer()\n",
    "X = cancer.data\n",
    "y = cancer.target\n",
    "\n",
    "df = pd.DataFrame(X, columns = cancer.feature_names)"
   ]
  },
  {
   "cell_type": "code",
   "execution_count": 30,
   "id": "a1589f61-3ffa-48ea-b1aa-8c1fd446a2ee",
   "metadata": {
    "tags": []
   },
   "outputs": [],
   "source": [
    "features = ['radius error','texture error','concave points error','symmetry error',\n",
    "          'worst texture','worst smoothness','worst symmetry']\n",
    "\n",
    "df= df[features]"
   ]
  },
  {
   "cell_type": "code",
   "execution_count": 31,
   "id": "a6fcfd00-f94d-41d7-8cc8-bd052ddec9cb",
   "metadata": {
    "tags": []
   },
   "outputs": [
    {
     "data": {
      "text/html": [
       "<style>#sk-container-id-2 {color: black;}#sk-container-id-2 pre{padding: 0;}#sk-container-id-2 div.sk-toggleable {background-color: white;}#sk-container-id-2 label.sk-toggleable__label {cursor: pointer;display: block;width: 100%;margin-bottom: 0;padding: 0.3em;box-sizing: border-box;text-align: center;}#sk-container-id-2 label.sk-toggleable__label-arrow:before {content: \"▸\";float: left;margin-right: 0.25em;color: #696969;}#sk-container-id-2 label.sk-toggleable__label-arrow:hover:before {color: black;}#sk-container-id-2 div.sk-estimator:hover label.sk-toggleable__label-arrow:before {color: black;}#sk-container-id-2 div.sk-toggleable__content {max-height: 0;max-width: 0;overflow: hidden;text-align: left;background-color: #f0f8ff;}#sk-container-id-2 div.sk-toggleable__content pre {margin: 0.2em;color: black;border-radius: 0.25em;background-color: #f0f8ff;}#sk-container-id-2 input.sk-toggleable__control:checked~div.sk-toggleable__content {max-height: 200px;max-width: 100%;overflow: auto;}#sk-container-id-2 input.sk-toggleable__control:checked~label.sk-toggleable__label-arrow:before {content: \"▾\";}#sk-container-id-2 div.sk-estimator input.sk-toggleable__control:checked~label.sk-toggleable__label {background-color: #d4ebff;}#sk-container-id-2 div.sk-label input.sk-toggleable__control:checked~label.sk-toggleable__label {background-color: #d4ebff;}#sk-container-id-2 input.sk-hidden--visually {border: 0;clip: rect(1px 1px 1px 1px);clip: rect(1px, 1px, 1px, 1px);height: 1px;margin: -1px;overflow: hidden;padding: 0;position: absolute;width: 1px;}#sk-container-id-2 div.sk-estimator {font-family: monospace;background-color: #f0f8ff;border: 1px dotted black;border-radius: 0.25em;box-sizing: border-box;margin-bottom: 0.5em;}#sk-container-id-2 div.sk-estimator:hover {background-color: #d4ebff;}#sk-container-id-2 div.sk-parallel-item::after {content: \"\";width: 100%;border-bottom: 1px solid gray;flex-grow: 1;}#sk-container-id-2 div.sk-label:hover label.sk-toggleable__label {background-color: #d4ebff;}#sk-container-id-2 div.sk-serial::before {content: \"\";position: absolute;border-left: 1px solid gray;box-sizing: border-box;top: 0;bottom: 0;left: 50%;z-index: 0;}#sk-container-id-2 div.sk-serial {display: flex;flex-direction: column;align-items: center;background-color: white;padding-right: 0.2em;padding-left: 0.2em;position: relative;}#sk-container-id-2 div.sk-item {position: relative;z-index: 1;}#sk-container-id-2 div.sk-parallel {display: flex;align-items: stretch;justify-content: center;background-color: white;position: relative;}#sk-container-id-2 div.sk-item::before, #sk-container-id-2 div.sk-parallel-item::before {content: \"\";position: absolute;border-left: 1px solid gray;box-sizing: border-box;top: 0;bottom: 0;left: 50%;z-index: -1;}#sk-container-id-2 div.sk-parallel-item {display: flex;flex-direction: column;z-index: 1;position: relative;background-color: white;}#sk-container-id-2 div.sk-parallel-item:first-child::after {align-self: flex-end;width: 50%;}#sk-container-id-2 div.sk-parallel-item:last-child::after {align-self: flex-start;width: 50%;}#sk-container-id-2 div.sk-parallel-item:only-child::after {width: 0;}#sk-container-id-2 div.sk-dashed-wrapped {border: 1px dashed gray;margin: 0 0.4em 0.5em 0.4em;box-sizing: border-box;padding-bottom: 0.4em;background-color: white;}#sk-container-id-2 div.sk-label label {font-family: monospace;font-weight: bold;display: inline-block;line-height: 1.2em;}#sk-container-id-2 div.sk-label-container {text-align: center;}#sk-container-id-2 div.sk-container {/* jupyter's `normalize.less` sets `[hidden] { display: none; }` but bootstrap.min.css set `[hidden] { display: none !important; }` so we also need the `!important` here to be able to override the default hidden behavior on the sphinx rendered scikit-learn.org. See: https://github.com/scikit-learn/scikit-learn/issues/21755 */display: inline-block !important;position: relative;}#sk-container-id-2 div.sk-text-repr-fallback {display: none;}</style><div id=\"sk-container-id-2\" class=\"sk-top-container\"><div class=\"sk-text-repr-fallback\"><pre>RandomForestClassifier(n_estimators=200)</pre><b>In a Jupyter environment, please rerun this cell to show the HTML representation or trust the notebook. <br />On GitHub, the HTML representation is unable to render, please try loading this page with nbviewer.org.</b></div><div class=\"sk-container\" hidden><div class=\"sk-item\"><div class=\"sk-estimator sk-toggleable\"><input class=\"sk-toggleable__control sk-hidden--visually\" id=\"sk-estimator-id-2\" type=\"checkbox\" checked><label for=\"sk-estimator-id-2\" class=\"sk-toggleable__label sk-toggleable__label-arrow\">RandomForestClassifier</label><div class=\"sk-toggleable__content\"><pre>RandomForestClassifier(n_estimators=200)</pre></div></div></div></div></div>"
      ],
      "text/plain": [
       "RandomForestClassifier(n_estimators=200)"
      ]
     },
     "execution_count": 31,
     "metadata": {},
     "output_type": "execute_result"
    }
   ],
   "source": [
    "X_train, X_test, y_train , y_test = train_test_split(df,y, test_size = 0.20)\n",
    "cl = RandomForestClassifier(n_estimators=200)\n",
    "cl.fit(X_train,y_train)"
   ]
  },
  {
   "cell_type": "code",
   "execution_count": 33,
   "id": "92c93df0-5b58-4202-a558-9e83f4a5219f",
   "metadata": {
    "tags": []
   },
   "outputs": [
    {
     "name": "stdout",
     "output_type": "stream",
     "text": [
      "93.86% accuracy\n"
     ]
    }
   ],
   "source": [
    "from sklearn.metrics import accuracy_score\n",
    "preds = cl.predict(X_test)\n",
    "e = accuracy_score(y_test,preds)\n",
    "print(f\"{e*100:.2f}% accuracy\")"
   ]
  },
  {
   "cell_type": "code",
   "execution_count": 34,
   "id": "1b619e5c-0f61-42f8-aa8e-c8912b81f20e",
   "metadata": {
    "tags": []
   },
   "outputs": [
    {
     "data": {
      "text/html": [
       "<div>\n",
       "<style scoped>\n",
       "    .dataframe tbody tr th:only-of-type {\n",
       "        vertical-align: middle;\n",
       "    }\n",
       "\n",
       "    .dataframe tbody tr th {\n",
       "        vertical-align: top;\n",
       "    }\n",
       "\n",
       "    .dataframe thead th {\n",
       "        text-align: right;\n",
       "    }\n",
       "</style>\n",
       "<table border=\"1\" class=\"dataframe\">\n",
       "  <thead>\n",
       "    <tr style=\"text-align: right;\">\n",
       "      <th></th>\n",
       "      <th>Importance</th>\n",
       "    </tr>\n",
       "    <tr>\n",
       "      <th>Feature</th>\n",
       "      <th></th>\n",
       "    </tr>\n",
       "  </thead>\n",
       "  <tbody>\n",
       "    <tr>\n",
       "      <th>radius error</th>\n",
       "      <td>0.192982</td>\n",
       "    </tr>\n",
       "    <tr>\n",
       "      <th>concave points error</th>\n",
       "      <td>0.096491</td>\n",
       "    </tr>\n",
       "    <tr>\n",
       "      <th>worst texture</th>\n",
       "      <td>0.052632</td>\n",
       "    </tr>\n",
       "    <tr>\n",
       "      <th>symmetry error</th>\n",
       "      <td>0.043860</td>\n",
       "    </tr>\n",
       "    <tr>\n",
       "      <th>texture error</th>\n",
       "      <td>0.026316</td>\n",
       "    </tr>\n",
       "    <tr>\n",
       "      <th>worst smoothness</th>\n",
       "      <td>0.008772</td>\n",
       "    </tr>\n",
       "    <tr>\n",
       "      <th>worst symmetry</th>\n",
       "      <td>0.008772</td>\n",
       "    </tr>\n",
       "  </tbody>\n",
       "</table>\n",
       "</div>"
      ],
      "text/plain": [
       "                      Importance\n",
       "Feature                         \n",
       "radius error            0.192982\n",
       "concave points error    0.096491\n",
       "worst texture           0.052632\n",
       "symmetry error          0.043860\n",
       "texture error           0.026316\n",
       "worst smoothness        0.008772\n",
       "worst symmetry          0.008772"
      ]
     },
     "execution_count": 34,
     "metadata": {},
     "output_type": "execute_result"
    }
   ],
   "source": [
    "features_ranking = importances(cl, X_test, y_test)\n",
    "features_ranking"
   ]
  },
  {
   "cell_type": "markdown",
   "id": "98f5346f-9752-49d6-b70f-d91e162fa3a5",
   "metadata": {},
   "source": [
    "# KNN"
   ]
  },
  {
   "cell_type": "code",
   "execution_count": null,
   "id": "a9daa0a4-e45b-4254-803a-9288e16e2113",
   "metadata": {},
   "outputs": [],
   "source": [
    "from sklearn.model_selection import train_test_split\n",
    "\n",
    "X_train, X_test, y_train, y_test = train_test_split(X, y, test_size = 0.02 , random_state = 110)"
   ]
  },
  {
   "cell_type": "code",
   "execution_count": null,
   "id": "6dc09abf-d12e-4887-a6e2-81951f5a2dff",
   "metadata": {},
   "outputs": [],
   "source": [
    "def euclidean_distance(point1, point2):\n",
    "    return np.sqrt(sum((point1-point2)**2))\n",
    "\n",
    "#df['euclidean_distance'] = np.sqrt((df['Lattitude'] - df['x1'])**2 + (df['Longtitude'] - df['y2'])**2)\n",
    "#df.iloc[[500]]"
   ]
  },
  {
   "cell_type": "code",
   "execution_count": null,
   "id": "b6a956ac-f1aa-4e29-b362-9cebd01054ce",
   "metadata": {},
   "outputs": [],
   "source": [
    "def manhattan_distance(point1, point2):\n",
    "    return np.sum(np.abs(point1-point2))"
   ]
  },
  {
   "cell_type": "code",
   "execution_count": null,
   "id": "1bde9568-4b91-42f5-b11b-643705fa7146",
   "metadata": {},
   "outputs": [],
   "source": [
    "def minkowski_distance(point1, point2,p):\n",
    "    return np.power(sum(np.abs(point1-point2)**p),1/p)"
   ]
  },
  {
   "cell_type": "code",
   "execution_count": null,
   "id": "d64b423f-bfc6-47d2-a2c5-6bd01ce07ae8",
   "metadata": {},
   "outputs": [],
   "source": [
    "def predict_price(X_train,y_train,sample,k=5,p):\n",
    "    distances = []\n",
    "    for x in X_train.to_numpy():\n",
    "        distance = minkowski_distance(sample,x,p)\n",
    "        distances.append(distance)\n",
    "    sorted_distances = np.argsort(distances)\n",
    "    k_nearest_targets = y_train[sorted_distances[:k]]\n",
    "    predict_price = np.mean(k_nearest_targets)\n",
    "    return predict_price"
   ]
  },
  {
   "cell_type": "code",
   "execution_count": null,
   "id": "e23259d5-3a6f-4158-84c2-cb94fae866d0",
   "metadata": {},
   "outputs": [],
   "source": [
    "def predict_class(X_train,y_train,sample,k=5,p):\n",
    "    distances = []\n",
    "    for x in X_train.to_numpy():\n",
    "        distance = minkowski_distance(sample,x,p)\n",
    "        distances.append(distance)\n",
    "    sorted_distances = np.argsort(distances)\n",
    "    k_nearest_targets = y_train[sorted_distances[:k]]\n",
    "    class_counts = np.bincount(k_nearest_targets)\n",
    "    prediction = agrmax(class_counts)\n",
    "    return prediction"
   ]
  },
  {
   "cell_type": "code",
   "execution_count": null,
   "id": "9b89b7e7-fe4f-4dfc-9aef-f90b7bf07ccc",
   "metadata": {},
   "outputs": [],
   "source": [
    "def calculate_mse_for_k(X_train,y_train,X_test,y_test,k,p):\n",
    "    y_preds= []\n",
    "    for sample in X_test.to_numpy():\n",
    "        y_pred = predict_price(X_train,y_train,sample,k,p)\n",
    "        y_preds.append(y_pred)\n",
    "    mse = mean_squared_error(y_test,y_preds)\n",
    "    return mse"
   ]
  },
  {
   "cell_type": "code",
   "execution_count": null,
   "id": "0bc834cb-390e-438f-8c3f-04002ed2cf8c",
   "metadata": {},
   "outputs": [],
   "source": [
    "from sklearn.model_selection import train_test_split\n",
    "from sklearn.neighbors import KNeighborsRegressor\n",
    "X_train, X_test, y_train, y_test = train_test_split(X, y, test_size = 0.02 , random_state = 110)\n",
    "knn_regressor = KNeighborsRegressor(n_neighbors=11,p=3)\n",
    "knn_regressor.fit(X_train,y_train)\n",
    "y_pred = knn_regressor.predict(X_test)\n",
    "mse = mean_squared_error(y_test,y_pred)\n",
    "mse"
   ]
  },
  {
   "cell_type": "markdown",
   "id": "19f23a71-d60a-4eba-8390-5208a7283db9",
   "metadata": {},
   "source": [
    "Given the true values y = np.array and the predictions from your model preds, what is the mean squared error?"
   ]
  },
  {
   "cell_type": "code",
   "execution_count": 73,
   "id": "d619f354-c313-4d21-8ca3-a0f762e66021",
   "metadata": {
    "tags": []
   },
   "outputs": [],
   "source": [
    "y = np.array([0.69882258, 0.41020411, 0.97465025, 0.36357668, 0.92831302, 0.98208047, 0.43229378, 0.21032851, 0.80564111, 0.9221681, 0.34010773, 0.51208259, 0.30784147, 0.50252704, 0.43137395, 0.69055875, 0.96634857, 0.20403823, 0.05456629, 0.25382772, 0.37175274, 0.7149425, 0.22146558, 0.02238627, 0.40732219])"
   ]
  },
  {
   "cell_type": "code",
   "execution_count": 75,
   "id": "b6a4912d-82b8-4549-b6fd-dd81a627cdf4",
   "metadata": {
    "tags": []
   },
   "outputs": [],
   "source": [
    "preds = np.array([0.64879474, 0.39564339, 0.79922137, 0.18259129, 0.75875667, 0.98423633, 0.02784706, 0.71532278, 0.63592899, 0.92868504, 0.74281343, 0.01484505, 0.39772027, 0.41268879, 0.01877527, 0.25117644, 0.45016074, 0.606493, 0.69795758, 0.52579034, 0.93864457, 0.58332547, 0.06342663, 0.85158433, 0.64288857])"
   ]
  },
  {
   "cell_type": "code",
   "execution_count": 80,
   "id": "b10768a0-8d64-41b4-8d81-ceba59e35706",
   "metadata": {
    "tags": []
   },
   "outputs": [
    {
     "data": {
      "text/plain": [
       "0.1341745546868982"
      ]
     },
     "execution_count": 80,
     "metadata": {},
     "output_type": "execute_result"
    }
   ],
   "source": [
    "from sklearn.metrics import mean_squared_error\n",
    "mse = mean_squared_error(y,preds)\n",
    "mse"
   ]
  },
  {
   "cell_type": "markdown",
   "id": "db511f64-201a-4e17-96e4-4667900095dc",
   "metadata": {},
   "source": [
    "With x, y, and your split point = 14.5, what is the value of the mean absolute error after the split?"
   ]
  },
  {
   "cell_type": "code",
   "execution_count": 99,
   "id": "5e1bde12-de63-499f-a061-220fe3cc63b8",
   "metadata": {
    "tags": []
   },
   "outputs": [],
   "source": [
    "X = np.array([ 7, 13, 16, 1, 41, 2])"
   ]
  },
  {
   "cell_type": "code",
   "execution_count": 100,
   "id": "80084512-0586-4bc4-b055-5dfd137324fd",
   "metadata": {
    "tags": []
   },
   "outputs": [],
   "source": [
    "y = np.array([7, 7, 7, 6, 7, 4])"
   ]
  },
  {
   "cell_type": "code",
   "execution_count": 101,
   "id": "0692acf9-4352-4948-a7c6-9edd7aef3097",
   "metadata": {
    "tags": []
   },
   "outputs": [],
   "source": [
    "split_pt = 14.5"
   ]
  },
  {
   "cell_type": "code",
   "execution_count": 98,
   "id": "282462fe-2adb-4fc0-b6d1-d4b2c2249394",
   "metadata": {
    "tags": []
   },
   "outputs": [],
   "source": [
    "def split_data(x,y,split_pt):\n",
    "    mask = x > split_pt\n",
    "    anti_mask = x < split_pt\n",
    "    x_true = x[mask]\n",
    "    y_true = y[mask]\n",
    "    x_false = x[anti_mask]\n",
    "    y_false = y[anti_mask]\n",
    "    return x_true, y_true, x_false , y_false"
   ]
  },
  {
   "cell_type": "code",
   "execution_count": 102,
   "id": "1f1337c7-9dff-4953-a987-2bd90cc29802",
   "metadata": {
    "tags": []
   },
   "outputs": [],
   "source": [
    "x_true, y_true, x_false , y_false =split_data(X,y, 14.5)"
   ]
  },
  {
   "cell_type": "code",
   "execution_count": 103,
   "id": "651551ae-ec2b-4774-9c91-3f50c370ccd0",
   "metadata": {
    "tags": []
   },
   "outputs": [],
   "source": [
    "def MAE(y, y_true, y_false):\n",
    "    y_true_hat = np.mean(y_true)\n",
    "    y_false_hat = np.mean(y_false)\n",
    "    y_hat = np.mean(y)\n",
    "    \n",
    "    old_mae = np.mean(np.absolute(y-y_hat))\n",
    "    new_mae = len(y_true)/ len(y) * np.mean(np.absolute(y_true-y_true_hat)) + \\\n",
    "              len(y_false)/ len(y) * np.mean(np.absolute(y_false-y_false_hat)) \n",
    "    return old_mae, new_mae"
   ]
  },
  {
   "cell_type": "code",
   "execution_count": 104,
   "id": "fe984c2a-6316-4971-bf99-5241847ffd58",
   "metadata": {
    "tags": []
   },
   "outputs": [
    {
     "data": {
      "text/plain": [
       "(0.888888888888889, 0.6666666666666666)"
      ]
     },
     "execution_count": 104,
     "metadata": {},
     "output_type": "execute_result"
    }
   ],
   "source": [
    "MAE(y,y_true,y_false)"
   ]
  },
  {
   "cell_type": "code",
   "execution_count": null,
   "id": "89fa16c7-1709-4ecc-88dd-994e06344a0e",
   "metadata": {},
   "outputs": [],
   "source": []
  }
 ],
 "metadata": {
  "kernelspec": {
   "display_name": "Python 3 (ipykernel)",
   "language": "python",
   "name": "python3"
  },
  "language_info": {
   "codemirror_mode": {
    "name": "ipython",
    "version": 3
   },
   "file_extension": ".py",
   "mimetype": "text/x-python",
   "name": "python",
   "nbconvert_exporter": "python",
   "pygments_lexer": "ipython3",
   "version": "3.11.5"
  }
 },
 "nbformat": 4,
 "nbformat_minor": 5
}
